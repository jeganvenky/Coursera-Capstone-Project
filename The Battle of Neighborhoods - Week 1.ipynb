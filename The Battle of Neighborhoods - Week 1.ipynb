{
 "cells": [
  {
   "cell_type": "markdown",
   "metadata": {},
   "source": [
    "# The Battle of Neighborhoods Week 1"
   ]
  },
  {
   "cell_type": "markdown",
   "metadata": {},
   "source": [
    "### Introduction or Problem Statement\n",
    "\n",
    "The City of New York, usually called either New York City (NYC) or simply New York (NY), is the most populous city in the United States. With an estimated 2018 population of 8,398,748 distributed over a land area of about 302.6 square miles (784 km2), New York is also the most densely populated major city in the United States.  Located at the southern tip of the state of New York, the city is the center of the New York metropolitan area, the largest metropolitan area in the world by urban landmass and one of the world's most populous megacities, with an estimated 19,979,477 people in its 2018 Metropolitan Statistical Area and 22,679,948 residents in its Combined Statistical Area.   A global power city, New York City has been described as the cultural, financial, and media capital of the world, and exerts a significant impact upon commerce, entertainment, research, technology, education, politics, tourism, art, fashion, and sports. 62.85% of New York City residents were born in the United States, with 48.29% having been born in New York. 16.67% of residents are not US citizens. Of those not born in the United States, the largest percentage are from Latin America\n",
    "\n",
    "Throughout its history, New York City has been a major point of entry for immigrants; the term \"melting pot\" was coined to describe densely populated immigrant neighbourhoods on the Lower East Side. As many as 800 languages are spoken in New York, making it the most linguistically diverse city in the world. English remains the most widely spoken language, although there are areas in the outer boroughs in which up to 25% of people speak English as an alternate language, and/or have limited or no English language fluency. English is least spoken in neighbourhoods such as Flushing, Sunset Park, and Corona.\n",
    "\n",
    "With its diverse culture, comes diverse food items. There are many restaurants in New York City, each belonging to different categories like Chinese, Mexican, and French etc.\n",
    "\n",
    "### Problem Statement:\n",
    "One of my client is looking to setup a mexican restaurant in NYC.  He would like to narrow down the neighbourhood of NYC through a data driven approach along with his interaction with industry experts, vendors and other stake holders.  As an analyst, i would like to explore the best mexican restaurants in NYC.  So as part of this project, we will list and visualize all major parts of New York City that has great Mexican restaurants along with narrowing down on a neighbourhood for potential oppurtunity for an mexican restaurant.  \n",
    "\n"
   ]
  },
  {
   "cell_type": "markdown",
   "metadata": {},
   "source": [
    "### Data \n",
    "For this project we need the following data:\n",
    "<ul>\n",
    "<li> New York City data that contains list Boroughs, Neighbourhoods along with their latitude and longitude.\n",
    "    <ul>\n",
    "        <li>Data source : https://cocl.us/new_york_dataset\n",
    "        <li> Description : This data set contains the required information. And we will use this data set to explore various neighbourhoods of New York City.\n",
    "     </ul>\n",
    "<li> Mexican restaurants in each neighbourhood of New York City.\n",
    "        <ul>\n",
    "        <li>Data source : Fousquare API\n",
    "        <li> Description : By using this api we will get all the venues in each neighbourhood. We can filter these venues to get only Mexican restaurants.\n",
    "     </ul>\n",
    "<li> GeoSpace data\n",
    "          <ul>\n",
    "        <li>Data source : https://data.cityofnewyork.us/City-Government/Borough-Boundaries/tqmj-j8zm\n",
    "        <li> Description : By using this geo space data we will get the New York Borough boundaries that will help us visualize choropleth map.\n",
    "  \n",
    "</ul>\n"
   ]
  }
 ],
 "metadata": {
  "kernelspec": {
   "display_name": "Python 3.6",
   "language": "python",
   "name": "python3"
  },
  "language_info": {
   "codemirror_mode": {
    "name": "ipython",
    "version": 3
   },
   "file_extension": ".py",
   "mimetype": "text/x-python",
   "name": "python",
   "nbconvert_exporter": "python",
   "pygments_lexer": "ipython3",
   "version": "3.6.8"
  }
 },
 "nbformat": 4,
 "nbformat_minor": 2
}
