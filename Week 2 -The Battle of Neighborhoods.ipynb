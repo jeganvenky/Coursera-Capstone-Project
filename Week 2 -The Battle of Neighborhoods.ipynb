{
 "cells": [
  {
   "cell_type": "markdown",
   "metadata": {},
   "source": [
    "# The Battle of Neighborhoods - Week 2"
   ]
  },
  {
   "cell_type": "markdown",
   "metadata": {},
   "source": [
    "### Introduction\n",
    "\n",
    "The City of New York, usually called either New York City (NYC) or simply New York (NY), is the most populous city in the United States. With an estimated 2018 population of 8,398,748 distributed over a land area of about 302.6 square miles (784 km2), New York is also the most densely populated major city in the United States. Located at the southern tip of the state of New York, the city is the center of the New York metropolitan area, the largest metropolitan area in the world by urban landmass and one of the world's most populous megacities, with an estimated 19,979,477 people in its 2018 Metropolitan Statistical Area and 22,679,948 residents in its Combined Statistical Area. A global power city, New York City has been described as the cultural, financial, and media capital of the world, and exerts a significant impact upon commerce, entertainment, research, technology, education, politics, tourism, art, fashion, and sports. 62.85% of New York City residents were born in the United States, with 48.29% having been born in New York. 16.67% of residents are not US citizens. Of those not born in the United States, the largest percentage are from Latin America\n",
    "\n",
    "Throughout its history, New York City has been a major point of entry for immigrants; the term \"melting pot\" was coined to describe densely populated immigrant neighbourhoods on the Lower East Side. As many as 800 languages are spoken in New York, making it the most linguistically diverse city in the world. English remains the most widely spoken language, although there are areas in the outer boroughs in which up to 25% of people speak English as an alternate language, and/or have limited or no English language fluency. English is least spoken in neighbourhoods such as Flushing, Sunset Park, and Corona.\n",
    "\n",
    "With its diverse culture, comes diverse food items. There are many restaurants in New York City, each belonging to different categories like Chinese, Mexican, and French etc.\n"
   ]
  },
  {
   "cell_type": "markdown",
   "metadata": {},
   "source": [
    "## Problem Statement"
   ]
  },
  {
   "cell_type": "markdown",
   "metadata": {},
   "source": [
    "One of my client is looking to setup a mexican restaurant in NYC. He would like to narrow down the neighbourhood of NYC through a data driven approach along with his interaction with industry experts, vendors and other stake holders. As an analyst, i would like to explore the best mexican restaurants in NYC. So as part of this project, we will list and visualize all major parts of New York City that has great Mexican restaurants along with narrowing down on a neighbourhood for potential oppurtunity for an mexican restaurant."
   ]
  },
  {
   "cell_type": "markdown",
   "metadata": {},
   "source": [
    "### Data \n",
    "For this project we need the following data:\n",
    "<ul>\n",
    "<li> New York City data that contains list Boroughs, Neighbourhoods along with their latitude and longitude.\n",
    "    <ul>\n",
    "        <li>Data source : https://cocl.us/new_york_dataset\n",
    "        <li> Description : This data set contains the required information. And we will use this data set to explore various neighbourhoods of New York City.\n",
    "     </ul>\n",
    "<li> Mexican restaurants in each neighbourhood of New York City.\n",
    "        <ul>\n",
    "        <li>Data source : Fousquare API\n",
    "        <li> Description : By using this api we will get all the venues in each neighbourhood. We can filter these venues to get only Mexican restaurants.\n",
    "     </ul>\n",
    "<li> GeoSpace data\n",
    "          <ul>\n",
    "        <li>Data source : https://data.cityofnewyork.us/City-Government/Borough-Boundaries/tqmj-j8zm\n",
    "        <li> Description : By using this geo space data we will get the New York Borough boundaries that will help us visualize choropleth map.\n",
    "  \n",
    "</ul>\n"
   ]
  },
  {
   "cell_type": "markdown",
   "metadata": {},
   "source": [
    "### Approach or Methodology\n",
    "- Collect the new york city data from https://cocl.us/new_york_dataset\n",
    "- Using FourSquare API we will find all venues for each neighborhood.\n",
    "- Filter out all venues that are Mexican Resturants.\n",
    "- Find rating , tips and like count for each Mexican Resturants using FourSquare API.\n",
    "- Using rating for each resturant , we will sort that data.\n",
    "- Visualize the Ranking of neighborhoods using folium library(python)"
   ]
  },
  {
   "cell_type": "markdown",
   "metadata": {},
   "source": [
    "### Questions that can be asked using the above mentioned datasets\n",
    "- What is best location in New York City for Mexican Cuisine ? \n",
    "- Which areas have potential Mexican Resturant Market ? \n",
    "- Which all areas lack Mexican Resturants ?\n",
    "- Which is the best place to stay if I prefer Mexican Cuisine ?"
   ]
  },
  {
   "cell_type": "markdown",
   "metadata": {},
   "source": [
    "### Analysis"
   ]
  },
  {
   "cell_type": "markdown",
   "metadata": {},
   "source": [
    "We will import the required libraries for python.\n",
    "\n",
    "- pandas and numpy for handling data.\n",
    "- request module for using FourSquare API.\n",
    "- geopy to get co-ordinates of City of New York.\n",
    "- folium to visualize the results on a map"
   ]
  },
  {
   "cell_type": "markdown",
   "metadata": {},
   "source": [
    "Now we define a function to get the geocodes i.e latitude and longitude of a given location using geopy."
   ]
  },
  {
   "cell_type": "code",
   "execution_count": 28,
   "metadata": {},
   "outputs": [],
   "source": [
    "import pandas as pd\n",
    "import numpy as np\n",
    "pd.set_option('display.max_columns', None)\n",
    "pd.set_option('display.max_rows', None)\n",
    "import requests\n",
    "!conda install -c conda-forge geopy --yes \n",
    "#!pip install geocoder\n",
    "import geocoder\n",
    "import folium # map rendering library\n",
    "from geopy.geocoders import Nominatim # convert an address into latitude and longitude values\n",
    "# Matplotlib and associated plotting modules\n",
    "import matplotlib.pyplot as plt\n",
    "import matplotlib.cm as cm\n",
    "import matplotlib.colors as colors\n",
    "%matplotlib inline"
   ]
  },
  {
   "cell_type": "code",
   "execution_count": 29,
   "metadata": {},
   "outputs": [],
   "source": [
    "\n",
    "def geo_location(address):\n",
    "    # get geo location of address\n",
    "    geolocator = Nominatim(user_agent=\"ny_explorer\")\n",
    "    location = geolocator.geocode(address)\n",
    "    latitude = location.latitude\n",
    "    longitude = location.longitude\n",
    "    return latitude,longitude"
   ]
  },
  {
   "cell_type": "markdown",
   "metadata": {},
   "source": [
    "We define a function to intract with FourSquare API and get top 100 venues within a radius of 1000 metres for a given  latitude and longitude. Below function will return us the venue id , venue name and category."
   ]
  },
  {
   "cell_type": "code",
   "execution_count": 30,
   "metadata": {},
   "outputs": [],
   "source": [
    "def get_venues(lat,lng):\n",
    "    \n",
    "    #set variables\n",
    "    radius=1000\n",
    "    LIMIT=100\n",
    "    CLIENT_ID = 'SC0F4RRIQKEO5LT3TFCDFLYOE1JCCKB3NWDGTWQPDCPMSDTF' # your Foursquare ID\n",
    "    CLIENT_SECRET = 'R2BNL2LV0EVF5G03GIFASMKS0ENZANFITVKVDSQOEINAIS2C' # your Foursquare Secret\n",
    "    VERSION = '20180605' # Foursquare API version\n",
    "    \n",
    "    #url to fetch data from foursquare api\n",
    "    url = 'https://api.foursquare.com/v2/venues/explore?&client_id={}&client_secret={}&v={}&ll={},{}&radius={}&limit={}'.format(\n",
    "            CLIENT_ID, \n",
    "            CLIENT_SECRET, \n",
    "            VERSION, \n",
    "            lat, \n",
    "            lng, \n",
    "            radius, \n",
    "            LIMIT)\n",
    "    \n",
    "    # get all the data\n",
    "    results = requests.get(url).json()\n",
    "    venue_data=results[\"response\"]['groups'][0]['items']\n",
    "    venue_details=[]\n",
    "    for row in venue_data:\n",
    "        try:\n",
    "            venue_id=row['venue']['id']\n",
    "            venue_name=row['venue']['name']\n",
    "            venue_category=row['venue']['categories'][0]['name']\n",
    "            venue_details.append([venue_id,venue_name,venue_category])\n",
    "        except KeyError:\n",
    "            pass\n",
    "        \n",
    "    column_names=['ID','Name','Category']\n",
    "    df = pd.DataFrame(venue_details,columns=column_names)\n",
    "    return df\n",
    "    "
   ]
  },
  {
   "cell_type": "markdown",
   "metadata": {},
   "source": [
    "Now we will define a function to get venue details like like count , rating , tip counts for a given venue id.\n",
    "This will be used for ranking."
   ]
  },
  {
   "cell_type": "code",
   "execution_count": 31,
   "metadata": {},
   "outputs": [],
   "source": [
    "def get_venue_details(venue_id):\n",
    "        \n",
    "    CLIENT_ID = 'SC0F4RRIQKEO5LT3TFCDFLYOE1JCCKB3NWDGTWQPDCPMSDTF' # your Foursquare ID\n",
    "    CLIENT_SECRET = 'R2BNL2LV0EVF5G03GIFASMKS0ENZANFITVKVDSQOEINAIS2C' # your Foursquare Secret\n",
    "    VERSION = '20180605' # Foursquare API version\n",
    "    \n",
    "    #url to fetch data from foursquare api\n",
    "    url = 'https://api.foursquare.com/v2/venues/{}?&client_id={}&client_secret={}&v={}'.format(\n",
    "            venue_id,\n",
    "            CLIENT_ID, \n",
    "            CLIENT_SECRET, \n",
    "            VERSION)\n",
    "    \n",
    "    # get all the data\n",
    "    results = requests.get(url).json()\n",
    "    venue_data=results['response']['venue']\n",
    "    venue_details=[]\n",
    "    try:\n",
    "        venue_id=venue_data['id']\n",
    "        venue_name=venue_data['name']\n",
    "        venue_likes=venue_data['likes']['count']\n",
    "        venue_rating=venue_data['rating']\n",
    "        venue_tips=venue_data['tips']['count']\n",
    "        venue_details.append([venue_id,venue_name,venue_likes,venue_rating,venue_tips])\n",
    "    except KeyError:\n",
    "        pass\n",
    "        \n",
    "    column_names=['ID','Name','Likes','Rating','Tips']\n",
    "    df = pd.DataFrame(venue_details,columns=column_names)\n",
    "    return df\n"
   ]
  },
  {
   "cell_type": "markdown",
   "metadata": {},
   "source": [
    "Now we define a funtion to get the new york city data such as Boroughs, Neighborhoods along with their latitude and longitude."
   ]
  },
  {
   "cell_type": "code",
   "execution_count": 33,
   "metadata": {},
   "outputs": [],
   "source": [
    "def get_new_york_data():\n",
    "    url='https://cocl.us/new_york_dataset'\n",
    "    resp=requests.get(url).json()\n",
    "    # all data is present in features label\n",
    "    features=resp['features']\n",
    "    \n",
    "    # define the dataframe columns\n",
    "    column_names = ['Borough', 'Neighborhood', 'Latitude', 'Longitude'] \n",
    "    # instantiate the dataframe\n",
    "    new_york_data = pd.DataFrame(columns=column_names)\n",
    "    \n",
    "    for data in features:\n",
    "        borough = data['properties']['borough'] \n",
    "        neighborhood_name = data['properties']['name']\n",
    "        \n",
    "        neighborhood_latlon = data['geometry']['coordinates']\n",
    "        neighborhood_lat = neighborhood_latlon[1]\n",
    "        neighborhood_lon = neighborhood_latlon[0]\n",
    "    \n",
    "        new_york_data = new_york_data.append({'Borough': borough,\n",
    "                                          'Neighborhood': neighborhood_name,\n",
    "                                          'Latitude': neighborhood_lat,\n",
    "                                          'Longitude': neighborhood_lon}, ignore_index=True)\n",
    "    \n",
    "    return new_york_data"
   ]
  },
  {
   "cell_type": "markdown",
   "metadata": {},
   "source": [
    "We will call the above funtion to get the new york city data."
   ]
  },
  {
   "cell_type": "code",
   "execution_count": 25,
   "metadata": {},
   "outputs": [],
   "source": [
    "# get new york data\n",
    "new_york_data=get_new_york_data()"
   ]
  },
  {
   "cell_type": "code",
   "execution_count": 26,
   "metadata": {},
   "outputs": [
    {
     "data": {
      "text/html": [
       "<div>\n",
       "<style scoped>\n",
       "    .dataframe tbody tr th:only-of-type {\n",
       "        vertical-align: middle;\n",
       "    }\n",
       "\n",
       "    .dataframe tbody tr th {\n",
       "        vertical-align: top;\n",
       "    }\n",
       "\n",
       "    .dataframe thead th {\n",
       "        text-align: right;\n",
       "    }\n",
       "</style>\n",
       "<table border=\"1\" class=\"dataframe\">\n",
       "  <thead>\n",
       "    <tr style=\"text-align: right;\">\n",
       "      <th></th>\n",
       "      <th>Borough</th>\n",
       "      <th>Neighborhood</th>\n",
       "      <th>Latitude</th>\n",
       "      <th>Longitude</th>\n",
       "    </tr>\n",
       "  </thead>\n",
       "  <tbody>\n",
       "    <tr>\n",
       "      <th>0</th>\n",
       "      <td>Bronx</td>\n",
       "      <td>Wakefield</td>\n",
       "      <td>40.894705</td>\n",
       "      <td>-73.847201</td>\n",
       "    </tr>\n",
       "    <tr>\n",
       "      <th>1</th>\n",
       "      <td>Bronx</td>\n",
       "      <td>Co-op City</td>\n",
       "      <td>40.874294</td>\n",
       "      <td>-73.829939</td>\n",
       "    </tr>\n",
       "    <tr>\n",
       "      <th>2</th>\n",
       "      <td>Bronx</td>\n",
       "      <td>Eastchester</td>\n",
       "      <td>40.887556</td>\n",
       "      <td>-73.827806</td>\n",
       "    </tr>\n",
       "    <tr>\n",
       "      <th>3</th>\n",
       "      <td>Bronx</td>\n",
       "      <td>Fieldston</td>\n",
       "      <td>40.895437</td>\n",
       "      <td>-73.905643</td>\n",
       "    </tr>\n",
       "    <tr>\n",
       "      <th>4</th>\n",
       "      <td>Bronx</td>\n",
       "      <td>Riverdale</td>\n",
       "      <td>40.890834</td>\n",
       "      <td>-73.912585</td>\n",
       "    </tr>\n",
       "  </tbody>\n",
       "</table>\n",
       "</div>"
      ],
      "text/plain": [
       "  Borough Neighborhood   Latitude  Longitude\n",
       "0   Bronx    Wakefield  40.894705 -73.847201\n",
       "1   Bronx   Co-op City  40.874294 -73.829939\n",
       "2   Bronx  Eastchester  40.887556 -73.827806\n",
       "3   Bronx    Fieldston  40.895437 -73.905643\n",
       "4   Bronx    Riverdale  40.890834 -73.912585"
      ]
     },
     "execution_count": 26,
     "metadata": {},
     "output_type": "execute_result"
    }
   ],
   "source": [
    "new_york_data.head()"
   ]
  },
  {
   "cell_type": "code",
   "execution_count": 27,
   "metadata": {},
   "outputs": [
    {
     "data": {
      "text/plain": [
       "(306, 4)"
      ]
     },
     "execution_count": 27,
     "metadata": {},
     "output_type": "execute_result"
    }
   ],
   "source": [
    "new_york_data.shape"
   ]
  },
  {
   "cell_type": "markdown",
   "metadata": {},
   "source": [
    "So there are total of 306 different Neighborhoods in New York"
   ]
  },
  {
   "cell_type": "code",
   "execution_count": 28,
   "metadata": {},
   "outputs": [
    {
     "data": {
      "image/png": "[encoded data removed]",
      "text/plain": [
       "<Figure size 900x500 with 1 Axes>"
      ]
     },
     "metadata": {
      "needs_background": "light"
     },
     "output_type": "display_data"
    }
   ],
   "source": [
    "import matplotlib.pyplot as plt\n",
    "plt.figure(figsize=(9,5), dpi = 100)\n",
    "# title\n",
    "plt.title('Number of Neighborhood for each Borough in New York City')\n",
    "#On x-axis\n",
    "plt.xlabel('Borough', fontsize = 15)\n",
    "#On y-axis\n",
    "plt.ylabel('No.of Neighborhood', fontsize=15)\n",
    "#giving a bar plot\n",
    "new_york_data.groupby('Borough')['Neighborhood'].count().plot(kind='bar')\n",
    "#legend\n",
    "plt.legend()\n",
    "#displays the plot\n",
    "plt.show()"
   ]
  },
  {
   "cell_type": "markdown",
   "metadata": {},
   "source": [
    "We see that Queens has highest number of neighborhoods"
   ]
  },
  {
   "cell_type": "markdown",
   "metadata": {},
   "source": [
    "Now we will collect Mexican resturants for each Neighborhood"
   ]
  },
  {
   "cell_type": "code",
   "execution_count": 36,
   "metadata": {},
   "outputs": [
    {
     "name": "stdout",
     "output_type": "stream",
     "text": [
      "( 1 / 306 ) Mexican Resturants in Wakefield, Bronx:0\n",
      "( 2 / 306 ) Mexican Resturants in Co-op City, Bronx:2\n",
      "( 3 / 306 ) Mexican Resturants in Eastchester, Bronx:0\n",
      "( 4 / 306 ) Mexican Resturants in Fieldston, Bronx:3\n",
      "( 5 / 306 ) Mexican Resturants in Riverdale, Bronx:2\n",
      "( 6 / 306 ) Mexican Resturants in Kingsbridge, Bronx:6\n",
      "( 7 / 306 ) Mexican Resturants in Marble Hill, Manhattan:4\n",
      "( 8 / 306 ) Mexican Resturants in Woodlawn, Bronx:0\n",
      "( 9 / 306 ) Mexican Resturants in Norwood, Bronx:3\n",
      "( 10 / 306 ) Mexican Resturants in Williamsbridge, Bronx:0\n",
      "( 11 / 306 ) Mexican Resturants in Baychester, Bronx:2\n",
      "( 12 / 306 ) Mexican Resturants in Pelham Parkway, Bronx:1\n",
      "( 13 / 306 ) Mexican Resturants in City Island, Bronx:0\n",
      "( 14 / 306 ) Mexican Resturants in Bedford Park, Bronx:3\n",
      "( 15 / 306 ) Mexican Resturants in University Heights, Bronx:0\n",
      "( 16 / 306 ) Mexican Resturants in Morris Heights, Bronx:0\n",
      "( 17 / 306 ) Mexican Resturants in Fordham, Bronx:1\n",
      "( 18 / 306 ) Mexican Resturants in East Tremont, Bronx:0\n",
      "( 19 / 306 ) Mexican Resturants in West Farms, Bronx:0\n",
      "( 20 / 306 ) Mexican Resturants in High  Bridge, Bronx:1\n",
      "( 21 / 306 ) Mexican Resturants in Melrose, Bronx:6\n",
      "( 22 / 306 ) Mexican Resturants in Mott Haven, Bronx:3\n",
      "( 23 / 306 ) Mexican Resturants in Port Morris, Bronx:0\n",
      "( 24 / 306 ) Mexican Resturants in Longwood, Bronx:2\n",
      "( 25 / 306 ) Mexican Resturants in Hunts Point, Bronx:0\n",
      "( 26 / 306 ) Mexican Resturants in Morrisania, Bronx:2\n",
      "( 27 / 306 ) Mexican Resturants in Soundview, Bronx:0\n",
      "( 28 / 306 ) Mexican Resturants in Clason Point, Bronx:0\n",
      "( 29 / 306 ) Mexican Resturants in Throgs Neck, Bronx:0\n",
      "( 30 / 306 ) Mexican Resturants in Country Club, Bronx:2\n",
      "( 31 / 306 ) Mexican Resturants in Parkchester, Bronx:2\n",
      "( 32 / 306 ) Mexican Resturants in Westchester Square, Bronx:1\n",
      "( 33 / 306 ) Mexican Resturants in Van Nest, Bronx:1\n",
      "( 34 / 306 ) Mexican Resturants in Morris Park, Bronx:1\n",
      "( 35 / 306 ) Mexican Resturants in Belmont, Bronx:2\n",
      "( 36 / 306 ) Mexican Resturants in Spuyten Duyvil, Bronx:2\n",
      "( 37 / 306 ) Mexican Resturants in North Riverdale, Bronx:1\n",
      "( 38 / 306 ) Mexican Resturants in Pelham Bay, Bronx:1\n",
      "( 39 / 306 ) Mexican Resturants in Schuylerville, Bronx:2\n",
      "( 40 / 306 ) Mexican Resturants in Edgewater Park, Bronx:1\n",
      "( 41 / 306 ) Mexican Resturants in Castle Hill, Bronx:1\n",
      "( 42 / 306 ) Mexican Resturants in Olinville, Bronx:1\n",
      "( 43 / 306 ) Mexican Resturants in Pelham Gardens, Bronx:0\n",
      "( 44 / 306 ) Mexican Resturants in Concourse, Bronx:1\n",
      "( 45 / 306 ) Mexican Resturants in Unionport, Bronx:2\n",
      "( 46 / 306 ) Mexican Resturants in Edenwald, Bronx:0\n",
      "( 47 / 306 ) Mexican Resturants in Bay Ridge, Brooklyn:1\n",
      "( 48 / 306 ) Mexican Resturants in Bensonhurst, Brooklyn:1\n",
      "( 49 / 306 ) Mexican Resturants in Sunset Park, Brooklyn:8\n",
      "( 50 / 306 ) Mexican Resturants in Greenpoint, Brooklyn:2\n",
      "( 51 / 306 ) Mexican Resturants in Gravesend, Brooklyn:0\n",
      "( 52 / 306 ) Mexican Resturants in Brighton Beach, Brooklyn:0\n",
      "( 53 / 306 ) Mexican Resturants in Sheepshead Bay, Brooklyn:0\n",
      "( 54 / 306 ) Mexican Resturants in Manhattan Terrace, Brooklyn:0\n",
      "( 55 / 306 ) Mexican Resturants in Flatbush, Brooklyn:6\n",
      "( 56 / 306 ) Mexican Resturants in Crown Heights, Brooklyn:1\n",
      "( 57 / 306 ) Mexican Resturants in East Flatbush, Brooklyn:0\n",
      "( 58 / 306 ) Mexican Resturants in Kensington, Brooklyn:3\n",
      "( 59 / 306 ) Mexican Resturants in Windsor Terrace, Brooklyn:1\n",
      "( 60 / 306 ) Mexican Resturants in Prospect Heights, Brooklyn:2\n",
      "( 61 / 306 ) Mexican Resturants in Brownsville, Brooklyn:0\n",
      "( 62 / 306 ) Mexican Resturants in Williamsburg, Brooklyn:1\n",
      "( 63 / 306 ) Mexican Resturants in Bushwick, Brooklyn:7\n",
      "( 64 / 306 ) Mexican Resturants in Bedford Stuyvesant, Brooklyn:3\n",
      "( 65 / 306 ) Mexican Resturants in Brooklyn Heights, Brooklyn:0\n",
      "( 66 / 306 ) Mexican Resturants in Cobble Hill, Brooklyn:1\n",
      "( 67 / 306 ) Mexican Resturants in Carroll Gardens, Brooklyn:0\n",
      "( 68 / 306 ) Mexican Resturants in Red Hook, Brooklyn:0\n",
      "( 69 / 306 ) Mexican Resturants in Gowanus, Brooklyn:5\n",
      "( 70 / 306 ) Mexican Resturants in Fort Greene, Brooklyn:1\n",
      "( 71 / 306 ) Mexican Resturants in Park Slope, Brooklyn:0\n",
      "( 72 / 306 ) Mexican Resturants in Cypress Hills, Brooklyn:0\n",
      "( 73 / 306 ) Mexican Resturants in East New York, Brooklyn:0\n",
      "( 74 / 306 ) Mexican Resturants in Starrett City, Brooklyn:0\n",
      "( 75 / 306 ) Mexican Resturants in Canarsie, Brooklyn:1\n",
      "( 76 / 306 ) Mexican Resturants in Flatlands, Brooklyn:0\n",
      "( 77 / 306 ) Mexican Resturants in Mill Island, Brooklyn:0\n",
      "( 78 / 306 ) Mexican Resturants in Manhattan Beach, Brooklyn:0\n",
      "( 79 / 306 ) Mexican Resturants in Coney Island, Brooklyn:1\n",
      "( 80 / 306 ) Mexican Resturants in Bath Beach, Brooklyn:0\n",
      "( 81 / 306 ) Mexican Resturants in Borough Park, Brooklyn:0\n",
      "( 82 / 306 ) Mexican Resturants in Dyker Heights, Brooklyn:1\n",
      "( 83 / 306 ) Mexican Resturants in Gerritsen Beach, Brooklyn:0\n",
      "( 84 / 306 ) Mexican Resturants in Marine Park, Brooklyn:2\n",
      "( 85 / 306 ) Mexican Resturants in Clinton Hill, Brooklyn:4\n",
      "( 86 / 306 ) Mexican Resturants in Sea Gate, Brooklyn:0\n",
      "( 87 / 306 ) Mexican Resturants in Downtown, Brooklyn:0\n",
      "( 88 / 306 ) Mexican Resturants in Boerum Hill, Brooklyn:0\n",
      "( 89 / 306 ) Mexican Resturants in Prospect Lefferts Gardens, Brooklyn:0\n",
      "( 90 / 306 ) Mexican Resturants in Ocean Hill, Brooklyn:2\n",
      "( 91 / 306 ) Mexican Resturants in City Line, Brooklyn:0\n",
      "( 92 / 306 ) Mexican Resturants in Bergen Beach, Brooklyn:0\n",
      "( 93 / 306 ) Mexican Resturants in Midwood, Brooklyn:1\n",
      "( 94 / 306 ) Mexican Resturants in Prospect Park South, Brooklyn:5\n",
      "( 95 / 306 ) Mexican Resturants in Georgetown, Brooklyn:1\n",
      "( 96 / 306 ) Mexican Resturants in East Williamsburg, Brooklyn:2\n",
      "( 97 / 306 ) Mexican Resturants in North Side, Brooklyn:0\n",
      "( 98 / 306 ) Mexican Resturants in South Side, Brooklyn:1\n",
      "( 99 / 306 ) Mexican Resturants in Ocean Parkway, Brooklyn:0\n",
      "( 100 / 306 ) Mexican Resturants in Fort Hamilton, Brooklyn:1\n",
      "( 101 / 306 ) Mexican Resturants in Chinatown, Manhattan:2\n",
      "( 102 / 306 ) Mexican Resturants in Washington Heights, Manhattan:3\n",
      "( 103 / 306 ) Mexican Resturants in Inwood, Manhattan:6\n",
      "( 104 / 306 ) Mexican Resturants in Hamilton Heights, Manhattan:4\n",
      "( 105 / 306 ) Mexican Resturants in Manhattanville, Manhattan:5\n",
      "( 106 / 306 ) Mexican Resturants in Central Harlem, Manhattan:2\n",
      "( 107 / 306 ) Mexican Resturants in East Harlem, Manhattan:7\n",
      "( 108 / 306 ) Mexican Resturants in Upper East Side, Manhattan:2\n",
      "( 109 / 306 ) Mexican Resturants in Yorkville, Manhattan:2\n",
      "( 110 / 306 ) Mexican Resturants in Lenox Hill, Manhattan:1\n",
      "( 111 / 306 ) Mexican Resturants in Roosevelt Island, Manhattan:2\n",
      "( 112 / 306 ) Mexican Resturants in Upper West Side, Manhattan:0\n",
      "( 113 / 306 ) Mexican Resturants in Lincoln Square, Manhattan:1\n",
      "( 114 / 306 ) Mexican Resturants in Clinton, Manhattan:0\n",
      "( 115 / 306 ) Mexican Resturants in Midtown, Manhattan:0\n",
      "( 116 / 306 ) Mexican Resturants in Murray Hill, Manhattan:0\n",
      "( 117 / 306 ) Mexican Resturants in Chelsea, Manhattan:0\n",
      "( 118 / 306 ) Mexican Resturants in Greenwich Village, Manhattan:0\n",
      "( 119 / 306 ) Mexican Resturants in East Village, Manhattan:1\n",
      "( 120 / 306 ) Mexican Resturants in Lower East Side, Manhattan:3\n",
      "( 121 / 306 ) Mexican Resturants in Tribeca, Manhattan:0\n",
      "( 122 / 306 ) Mexican Resturants in Little Italy, Manhattan:1\n",
      "( 123 / 306 ) Mexican Resturants in Soho, Manhattan:1\n",
      "( 124 / 306 ) Mexican Resturants in West Village, Manhattan:0\n",
      "( 125 / 306 ) Mexican Resturants in Manhattan Valley, Manhattan:3\n",
      "( 126 / 306 ) Mexican Resturants in Morningside Heights, Manhattan:2\n",
      "( 127 / 306 ) Mexican Resturants in Gramercy, Manhattan:3\n",
      "( 128 / 306 ) Mexican Resturants in Battery Park City, Manhattan:1\n",
      "( 129 / 306 ) Mexican Resturants in Financial District, Manhattan:0\n",
      "( 130 / 306 ) Mexican Resturants in Astoria, Queens:1\n",
      "( 131 / 306 ) Mexican Resturants in Woodside, Queens:2\n",
      "( 132 / 306 ) Mexican Resturants in Jackson Heights, Queens:8\n",
      "( 133 / 306 ) Mexican Resturants in Elmhurst, Queens:8\n",
      "( 134 / 306 ) Mexican Resturants in Howard Beach, Queens:1\n",
      "( 135 / 306 ) Mexican Resturants in Corona, Queens:3\n",
      "( 136 / 306 ) Mexican Resturants in Forest Hills, Queens:2\n",
      "( 137 / 306 ) Mexican Resturants in Kew Gardens, Queens:1\n",
      "( 138 / 306 ) Mexican Resturants in Richmond Hill, Queens:1\n",
      "( 139 / 306 ) Mexican Resturants in Flushing, Queens:0\n",
      "( 140 / 306 ) Mexican Resturants in Long Island City, Queens:4\n",
      "( 141 / 306 ) Mexican Resturants in Sunnyside, Queens:3\n",
      "( 142 / 306 ) Mexican Resturants in East Elmhurst, Queens:1\n",
      "( 143 / 306 ) Mexican Resturants in Maspeth, Queens:0\n",
      "( 144 / 306 ) Mexican Resturants in Ridgewood, Queens:4\n",
      "( 145 / 306 ) Mexican Resturants in Glendale, Queens:0\n",
      "( 146 / 306 ) Mexican Resturants in Rego Park, Queens:2\n",
      "( 147 / 306 ) Mexican Resturants in Woodhaven, Queens:0\n",
      "( 148 / 306 ) Mexican Resturants in Ozone Park, Queens:1\n",
      "( 149 / 306 ) Mexican Resturants in South Ozone Park, Queens:0\n",
      "( 150 / 306 ) Mexican Resturants in College Point, Queens:1\n",
      "( 151 / 306 ) Mexican Resturants in Whitestone, Queens:0\n",
      "( 152 / 306 ) Mexican Resturants in Bayside, Queens:2\n",
      "( 153 / 306 ) Mexican Resturants in Auburndale, Queens:1\n",
      "( 154 / 306 ) Mexican Resturants in Little Neck, Queens:0\n",
      "( 155 / 306 ) Mexican Resturants in Douglaston, Queens:0\n",
      "( 156 / 306 ) Mexican Resturants in Glen Oaks, Queens:0\n",
      "( 157 / 306 ) Mexican Resturants in Bellerose, Queens:0\n",
      "( 158 / 306 ) Mexican Resturants in Kew Gardens Hills, Queens:0\n",
      "( 159 / 306 ) Mexican Resturants in Fresh Meadows, Queens:1\n",
      "( 160 / 306 ) Mexican Resturants in Briarwood, Queens:0\n",
      "( 161 / 306 ) Mexican Resturants in Jamaica Center, Queens:2\n",
      "( 162 / 306 ) Mexican Resturants in Oakland Gardens, Queens:0\n",
      "( 163 / 306 ) Mexican Resturants in Queens Village, Queens:0\n",
      "( 164 / 306 ) Mexican Resturants in Hollis, Queens:0\n",
      "( 165 / 306 ) Mexican Resturants in South Jamaica, Queens:0\n",
      "( 166 / 306 ) Mexican Resturants in St. Albans, Queens:0\n",
      "( 167 / 306 ) Mexican Resturants in Rochdale, Queens:1\n",
      "( 168 / 306 ) Mexican Resturants in Springfield Gardens, Queens:0\n",
      "( 169 / 306 ) Mexican Resturants in Cambria Heights, Queens:0\n",
      "( 170 / 306 ) Mexican Resturants in Rosedale, Queens:0\n",
      "( 171 / 306 ) Mexican Resturants in Far Rockaway, Queens:0\n",
      "( 172 / 306 ) Mexican Resturants in Broad Channel, Queens:0\n",
      "( 173 / 306 ) Mexican Resturants in Breezy Point, Queens:0\n",
      "( 174 / 306 ) Mexican Resturants in Steinway, Queens:1\n",
      "( 175 / 306 ) Mexican Resturants in Beechhurst, Queens:0\n",
      "( 176 / 306 ) Mexican Resturants in Bay Terrace, Queens:0\n",
      "( 177 / 306 ) Mexican Resturants in Edgemere, Queens:0\n",
      "( 178 / 306 ) Mexican Resturants in Arverne, Queens:0\n",
      "( 179 / 306 ) Mexican Resturants in Rockaway Beach, Queens:0\n",
      "( 180 / 306 ) Mexican Resturants in Neponsit, Queens:1\n",
      "( 181 / 306 ) Mexican Resturants in Murray Hill, Queens:0\n",
      "( 182 / 306 ) Mexican Resturants in Floral Park, Queens:0\n",
      "( 183 / 306 ) Mexican Resturants in Holliswood, Queens:0\n",
      "( 184 / 306 ) Mexican Resturants in Jamaica Estates, Queens:0\n",
      "( 185 / 306 ) Mexican Resturants in Queensboro Hill, Queens:0\n",
      "( 186 / 306 ) Mexican Resturants in Hillcrest, Queens:1\n",
      "( 187 / 306 ) Mexican Resturants in Ravenswood, Queens:4\n",
      "( 188 / 306 ) Mexican Resturants in Lindenwood, Queens:0\n",
      "( 189 / 306 ) Mexican Resturants in Laurelton, Queens:0\n",
      "( 190 / 306 ) Mexican Resturants in Lefrak City, Queens:2\n",
      "( 191 / 306 ) Mexican Resturants in Belle Harbor, Queens:1\n",
      "( 192 / 306 ) Mexican Resturants in Rockaway Park, Queens:1\n",
      "( 193 / 306 ) Mexican Resturants in Somerville, Queens:0\n",
      "( 194 / 306 ) Mexican Resturants in Brookville, Queens:0\n",
      "( 195 / 306 ) Mexican Resturants in Bellaire, Queens:0\n",
      "( 196 / 306 ) Mexican Resturants in North Corona, Queens:3\n",
      "( 197 / 306 ) Mexican Resturants in Forest Hills Gardens, Queens:1\n",
      "( 198 / 306 ) Mexican Resturants in St. George, Staten Island:1\n",
      "( 199 / 306 ) Mexican Resturants in New Brighton, Staten Island:2\n",
      "( 200 / 306 ) Mexican Resturants in Stapleton, Staten Island:2\n",
      "( 201 / 306 ) Mexican Resturants in Rosebank, Staten Island:1\n",
      "( 202 / 306 ) Mexican Resturants in West Brighton, Staten Island:1\n",
      "( 203 / 306 ) Mexican Resturants in Grymes Hill, Staten Island:0\n",
      "( 204 / 306 ) Mexican Resturants in Todt Hill, Staten Island:0\n",
      "( 205 / 306 ) Mexican Resturants in South Beach, Staten Island:0\n",
      "( 206 / 306 ) Mexican Resturants in Port Richmond, Staten Island:2\n",
      "( 207 / 306 ) Mexican Resturants in Mariner's Harbor, Staten Island:0\n",
      "( 208 / 306 ) Mexican Resturants in Port Ivory, Staten Island:0\n",
      "( 209 / 306 ) Mexican Resturants in Castleton Corners, Staten Island:1\n",
      "( 210 / 306 ) Mexican Resturants in New Springville, Staten Island:1\n",
      "( 211 / 306 ) Mexican Resturants in Travis, Staten Island:0\n",
      "( 212 / 306 ) Mexican Resturants in New Dorp, Staten Island:3\n",
      "( 213 / 306 ) Mexican Resturants in Oakwood, Staten Island:0\n",
      "( 214 / 306 ) Mexican Resturants in Great Kills, Staten Island:0\n",
      "( 215 / 306 ) Mexican Resturants in Eltingville, Staten Island:0\n",
      "( 216 / 306 ) Mexican Resturants in Annadale, Staten Island:0\n",
      "( 217 / 306 ) Mexican Resturants in Woodrow, Staten Island:1\n",
      "( 218 / 306 ) Mexican Resturants in Tottenville, Staten Island:0\n",
      "( 219 / 306 ) Mexican Resturants in Tompkinsville, Staten Island:2\n",
      "( 220 / 306 ) Mexican Resturants in Silver Lake, Staten Island:0\n",
      "( 221 / 306 ) Mexican Resturants in Sunnyside, Staten Island:0\n",
      "( 222 / 306 ) Mexican Resturants in Ditmas Park, Brooklyn:8\n",
      "( 223 / 306 ) Mexican Resturants in Wingate, Brooklyn:0\n",
      "( 224 / 306 ) Mexican Resturants in Rugby, Brooklyn:0\n",
      "( 225 / 306 ) Mexican Resturants in Park Hill, Staten Island:0\n",
      "( 226 / 306 ) Mexican Resturants in Westerleigh, Staten Island:0\n",
      "( 227 / 306 ) Mexican Resturants in Graniteville, Staten Island:0\n",
      "( 228 / 306 ) Mexican Resturants in Arlington, Staten Island:0\n",
      "( 229 / 306 ) Mexican Resturants in Arrochar, Staten Island:0\n",
      "( 230 / 306 ) Mexican Resturants in Grasmere, Staten Island:0\n",
      "( 231 / 306 ) Mexican Resturants in Old Town, Staten Island:1\n",
      "( 232 / 306 ) Mexican Resturants in Dongan Hills, Staten Island:1\n",
      "( 233 / 306 ) Mexican Resturants in Midland Beach, Staten Island:0\n",
      "( 234 / 306 ) Mexican Resturants in Grant City, Staten Island:2\n",
      "( 235 / 306 ) Mexican Resturants in New Dorp Beach, Staten Island:2\n",
      "( 236 / 306 ) Mexican Resturants in Bay Terrace, Staten Island:1\n",
      "( 237 / 306 ) Mexican Resturants in Huguenot, Staten Island:0\n",
      "( 238 / 306 ) Mexican Resturants in Pleasant Plains, Staten Island:0\n",
      "( 239 / 306 ) Mexican Resturants in Butler Manor, Staten Island:0\n",
      "( 240 / 306 ) Mexican Resturants in Charleston, Staten Island:0\n",
      "( 241 / 306 ) Mexican Resturants in Rossville, Staten Island:0\n",
      "( 242 / 306 ) Mexican Resturants in Arden Heights, Staten Island:2\n",
      "( 243 / 306 ) Mexican Resturants in Greenridge, Staten Island:0\n",
      "( 244 / 306 ) Mexican Resturants in Heartland Village, Staten Island:1\n",
      "( 245 / 306 ) Mexican Resturants in Chelsea, Staten Island:0\n",
      "( 246 / 306 ) Mexican Resturants in Bloomfield, Staten Island:0\n",
      "( 247 / 306 ) Mexican Resturants in Bulls Head, Staten Island:0\n",
      "( 248 / 306 ) Mexican Resturants in Carnegie Hill, Manhattan:0\n",
      "( 249 / 306 ) Mexican Resturants in Noho, Manhattan:2\n",
      "( 250 / 306 ) Mexican Resturants in Civic Center, Manhattan:0\n",
      "( 251 / 306 ) Mexican Resturants in Midtown South, Manhattan:0\n",
      "( 252 / 306 ) Mexican Resturants in Richmond Town, Staten Island:0\n",
      "( 253 / 306 ) Mexican Resturants in Shore Acres, Staten Island:1\n",
      "( 254 / 306 ) Mexican Resturants in Clifton, Staten Island:1\n",
      "( 255 / 306 ) Mexican Resturants in Concord, Staten Island:0\n",
      "( 256 / 306 ) Mexican Resturants in Emerson Hill, Staten Island:0\n",
      "( 257 / 306 ) Mexican Resturants in Randall Manor, Staten Island:1\n",
      "( 258 / 306 ) Mexican Resturants in Howland Hook, Staten Island:0\n",
      "( 259 / 306 ) Mexican Resturants in Elm Park, Staten Island:1\n",
      "( 260 / 306 ) Mexican Resturants in Remsen Village, Brooklyn:0\n",
      "( 261 / 306 ) Mexican Resturants in New Lots, Brooklyn:0\n",
      "( 262 / 306 ) Mexican Resturants in Paerdegat Basin, Brooklyn:0\n",
      "( 263 / 306 ) Mexican Resturants in Mill Basin, Brooklyn:2\n",
      "( 264 / 306 ) Mexican Resturants in Jamaica Hills, Queens:3\n",
      "( 265 / 306 ) Mexican Resturants in Utopia, Queens:1\n",
      "( 266 / 306 ) Mexican Resturants in Pomonok, Queens:0\n",
      "( 267 / 306 ) Mexican Resturants in Astoria Heights, Queens:0\n",
      "( 268 / 306 ) Mexican Resturants in Claremont Village, Bronx:0\n",
      "( 269 / 306 ) Mexican Resturants in Concourse Village, Bronx:4\n",
      "( 270 / 306 ) Mexican Resturants in Mount Eden, Bronx:0\n",
      "( 271 / 306 ) Mexican Resturants in Mount Hope, Bronx:0\n",
      "( 272 / 306 ) Mexican Resturants in Sutton Place, Manhattan:2\n",
      "( 273 / 306 ) Mexican Resturants in Hunters Point, Queens:2\n",
      "( 274 / 306 ) Mexican Resturants in Turtle Bay, Manhattan:1\n",
      "( 275 / 306 ) Mexican Resturants in Tudor City, Manhattan:2\n",
      "( 276 / 306 ) Mexican Resturants in Stuyvesant Town, Manhattan:2\n",
      "( 277 / 306 ) Mexican Resturants in Flatiron, Manhattan:1\n",
      "( 278 / 306 ) Mexican Resturants in Sunnyside Gardens, Queens:5\n",
      "( 279 / 306 ) Mexican Resturants in Blissville, Queens:0\n",
      "( 280 / 306 ) Mexican Resturants in Fulton Ferry, Brooklyn:1\n",
      "( 281 / 306 ) Mexican Resturants in Vinegar Hill, Brooklyn:0\n",
      "( 282 / 306 ) Mexican Resturants in Weeksville, Brooklyn:0\n",
      "( 283 / 306 ) Mexican Resturants in Broadway Junction, Brooklyn:1\n",
      "( 284 / 306 ) Mexican Resturants in Dumbo, Brooklyn:1\n",
      "( 285 / 306 ) Mexican Resturants in Manor Heights, Staten Island:0\n",
      "( 286 / 306 ) Mexican Resturants in Willowbrook, Staten Island:1\n",
      "( 287 / 306 ) Mexican Resturants in Sandy Ground, Staten Island:1\n",
      "( 288 / 306 ) Mexican Resturants in Egbertville, Staten Island:1\n",
      "( 289 / 306 ) Mexican Resturants in Roxbury, Queens:0\n",
      "( 290 / 306 ) Mexican Resturants in Homecrest, Brooklyn:2\n",
      "( 291 / 306 ) Mexican Resturants in Middle Village, Queens:0\n",
      "( 292 / 306 ) Mexican Resturants in Prince's Bay, Staten Island:0\n",
      "( 293 / 306 ) Mexican Resturants in Lighthouse Hill, Staten Island:0\n",
      "( 294 / 306 ) Mexican Resturants in Richmond Valley, Staten Island:1\n",
      "( 295 / 306 ) Mexican Resturants in Malba, Queens:0\n",
      "( 296 / 306 ) Mexican Resturants in Highland Park, Brooklyn:0\n",
      "( 297 / 306 ) Mexican Resturants in Madison, Brooklyn:0\n",
      "( 298 / 306 ) Mexican Resturants in Bronxdale, Bronx:2\n",
      "( 299 / 306 ) Mexican Resturants in Allerton, Bronx:1\n",
      "( 300 / 306 ) Mexican Resturants in Kingsbridge Heights, Bronx:1\n",
      "( 301 / 306 ) Mexican Resturants in Erasmus, Brooklyn:2\n",
      "( 302 / 306 ) Mexican Resturants in Hudson Yards, Manhattan:0\n",
      "( 303 / 306 ) Mexican Resturants in Hammels, Queens:0\n",
      "( 304 / 306 ) Mexican Resturants in Bayswater, Queens:0\n",
      "( 305 / 306 ) Mexican Resturants in Queensbridge, Queens:3\n",
      "( 306 / 306 ) Mexican Resturants in Fox Hills, Staten Island:0\n"
     ]
    }
   ],
   "source": [
    "# prepare neighborhood list that contains Mexican resturants\n",
    "column_names=['Borough', 'Neighborhood', 'ID','Name']\n",
    "mexican_rest_ny=pd.DataFrame(columns=column_names)\n",
    "count=1\n",
    "for row in new_york_data.values.tolist():\n",
    "    Borough, Neighborhood, Latitude, Longitude=row\n",
    "    venues = get_venues(Latitude,Longitude)\n",
    "    mexican_resturants=venues[venues['Category']=='Mexican Restaurant']   \n",
    "    print('(',count,'/',len(new_york_data),')','Mexican Resturants in '+Neighborhood+', '+Borough+':'+str(len(mexican_resturants)))\n",
    "    for resturant_detail in mexican_resturants.values.tolist():\n",
    "        id, name , category=resturant_detail\n",
    "        mexican_rest_ny = mexican_rest_ny.append({'Borough': Borough,\n",
    "                                                'Neighborhood': Neighborhood, \n",
    "                                                'ID': id,\n",
    "                                                'Name' : name\n",
    "                                               }, ignore_index=True)\n",
    "    count+=1"
   ]
  },
  {
   "cell_type": "markdown",
   "metadata": {},
   "source": [
    "Now that we have got all the mexican resturants in new york city , we will analyze it"
   ]
  },
  {
   "cell_type": "code",
   "execution_count": 37,
   "metadata": {},
   "outputs": [
    {
     "data": {
      "text/html": [
       "<div>\n",
       "<style scoped>\n",
       "    .dataframe tbody tr th:only-of-type {\n",
       "        vertical-align: middle;\n",
       "    }\n",
       "\n",
       "    .dataframe tbody tr th {\n",
       "        vertical-align: top;\n",
       "    }\n",
       "\n",
       "    .dataframe thead th {\n",
       "        text-align: right;\n",
       "    }\n",
       "</style>\n",
       "<table border=\"1\" class=\"dataframe\">\n",
       "  <thead>\n",
       "    <tr style=\"text-align: right;\">\n",
       "      <th></th>\n",
       "      <th>Borough</th>\n",
       "      <th>Neighborhood</th>\n",
       "      <th>ID</th>\n",
       "      <th>Name</th>\n",
       "    </tr>\n",
       "  </thead>\n",
       "  <tbody>\n",
       "    <tr>\n",
       "      <th>0</th>\n",
       "      <td>Bronx</td>\n",
       "      <td>Co-op City</td>\n",
       "      <td>5c47a4b21953f3002c558218</td>\n",
       "      <td>Chipotle Mexican Grill</td>\n",
       "    </tr>\n",
       "    <tr>\n",
       "      <th>1</th>\n",
       "      <td>Bronx</td>\n",
       "      <td>Co-op City</td>\n",
       "      <td>58582b156431e554e165d909</td>\n",
       "      <td>Moe's Southwest Grill</td>\n",
       "    </tr>\n",
       "    <tr>\n",
       "      <th>2</th>\n",
       "      <td>Bronx</td>\n",
       "      <td>Fieldston</td>\n",
       "      <td>523f6e14498ef6fdefc0d690</td>\n",
       "      <td>Burrito Shop</td>\n",
       "    </tr>\n",
       "    <tr>\n",
       "      <th>3</th>\n",
       "      <td>Bronx</td>\n",
       "      <td>Fieldston</td>\n",
       "      <td>4b78ba71f964a5209fdf2ee3</td>\n",
       "      <td>Santa Fe Grill &amp; Bar</td>\n",
       "    </tr>\n",
       "    <tr>\n",
       "      <th>4</th>\n",
       "      <td>Bronx</td>\n",
       "      <td>Fieldston</td>\n",
       "      <td>5ce9664e3731ee002baae6ed</td>\n",
       "      <td>Estrellita Poblana</td>\n",
       "    </tr>\n",
       "  </tbody>\n",
       "</table>\n",
       "</div>"
      ],
      "text/plain": [
       "  Borough Neighborhood                        ID                    Name\n",
       "0   Bronx   Co-op City  5c47a4b21953f3002c558218  Chipotle Mexican Grill\n",
       "1   Bronx   Co-op City  58582b156431e554e165d909   Moe's Southwest Grill\n",
       "2   Bronx    Fieldston  523f6e14498ef6fdefc0d690            Burrito Shop\n",
       "3   Bronx    Fieldston  4b78ba71f964a5209fdf2ee3    Santa Fe Grill & Bar\n",
       "4   Bronx    Fieldston  5ce9664e3731ee002baae6ed      Estrellita Poblana"
      ]
     },
     "execution_count": 37,
     "metadata": {},
     "output_type": "execute_result"
    }
   ],
   "source": [
    "mexican_rest_ny.head()"
   ]
  },
  {
   "cell_type": "code",
   "execution_count": 39,
   "metadata": {},
   "outputs": [
    {
     "data": {
      "text/plain": [
       "(328, 4)"
      ]
     },
     "execution_count": 39,
     "metadata": {},
     "output_type": "execute_result"
    }
   ],
   "source": [
    "mexican_rest_ny.shape"
   ]
  },
  {
   "cell_type": "markdown",
   "metadata": {},
   "source": [
    "We got 328 Mexican Resturants across New York City"
   ]
  },
  {
   "cell_type": "code",
   "execution_count": 41,
   "metadata": {},
   "outputs": [
    {
     "data": {
      "image/png": "[encoded data removed]",
      "text/plain": [
       "<Figure size 900x500 with 1 Axes>"
      ]
     },
     "metadata": {
      "needs_background": "light"
     },
     "output_type": "display_data"
    }
   ],
   "source": [
    "plt.figure(figsize=(9,5), dpi = 100)\n",
    "# title\n",
    "plt.title('Number of Mexican Resturants for each Borough in New York City')\n",
    "#On x-axis\n",
    "plt.xlabel('Borough', fontsize = 15)\n",
    "#On y-axis\n",
    "plt.ylabel('No.of Mexican Resturants', fontsize=15)\n",
    "#giving a bar plot\n",
    "mexican_rest_ny.groupby('Borough')['ID'].count().plot(kind='bar')\n",
    "#legend\n",
    "plt.legend()\n",
    "#displays the plot\n",
    "plt.show()"
   ]
  },
  {
   "cell_type": "markdown",
   "metadata": {},
   "source": [
    "We see that Brooklyn has the largest number of mexican resturants"
   ]
  },
  {
   "cell_type": "code",
   "execution_count": 42,
   "metadata": {},
   "outputs": [
    {
     "data": {
      "image/png": "[encoded data removed]",
      "text/plain": [
       "<Figure size 900x500 with 1 Axes>"
      ]
     },
     "metadata": {
      "needs_background": "light"
     },
     "output_type": "display_data"
    }
   ],
   "source": [
    "plt.figure(figsize=(9,5), dpi = 100)\n",
    "# title\n",
    "plt.title('Number of Mexican Resturants for each Neighborhood in New York City')\n",
    "#On x-axis\n",
    "plt.xlabel('Neighborhood', fontsize = 15)\n",
    "#On y-axis\n",
    "plt.ylabel('No.of Mexican Resturants', fontsize=15)\n",
    "#giving a bar plot\n",
    "mexican_rest_ny.groupby('Neighborhood')['ID'].count().nlargest(5).plot(kind='bar')\n",
    "#legend\n",
    "plt.legend()\n",
    "#displays the plot\n",
    "plt.show()"
   ]
  },
  {
   "cell_type": "code",
   "execution_count": 44,
   "metadata": {},
   "outputs": [
    {
     "data": {
      "text/plain": [
       "Neighborhood\n",
       "Ditmas Park        8\n",
       "Elmhurst           8\n",
       "Jackson Heights    8\n",
       "Sunset Park        8\n",
       "Bushwick           7\n",
       "Name: ID, dtype: int64"
      ]
     },
     "execution_count": 44,
     "metadata": {},
     "output_type": "execute_result"
    }
   ],
   "source": [
    "mexican_rest_ny.groupby('Neighborhood')['ID'].count().nlargest(5)"
   ]
  },
  {
   "cell_type": "code",
   "execution_count": 46,
   "metadata": {},
   "outputs": [
    {
     "data": {
      "text/html": [
       "<div>\n",
       "<style scoped>\n",
       "    .dataframe tbody tr th:only-of-type {\n",
       "        vertical-align: middle;\n",
       "    }\n",
       "\n",
       "    .dataframe tbody tr th {\n",
       "        vertical-align: top;\n",
       "    }\n",
       "\n",
       "    .dataframe thead th {\n",
       "        text-align: right;\n",
       "    }\n",
       "</style>\n",
       "<table border=\"1\" class=\"dataframe\">\n",
       "  <thead>\n",
       "    <tr style=\"text-align: right;\">\n",
       "      <th></th>\n",
       "      <th>Borough</th>\n",
       "      <th>Neighborhood</th>\n",
       "      <th>ID</th>\n",
       "      <th>Name</th>\n",
       "    </tr>\n",
       "  </thead>\n",
       "  <tbody>\n",
       "    <tr>\n",
       "      <th>261</th>\n",
       "      <td>Brooklyn</td>\n",
       "      <td>Ditmas Park</td>\n",
       "      <td>596938a0a22db76efcd439a6</td>\n",
       "      <td>Los Tres Chiflados</td>\n",
       "    </tr>\n",
       "    <tr>\n",
       "      <th>262</th>\n",
       "      <td>Brooklyn</td>\n",
       "      <td>Ditmas Park</td>\n",
       "      <td>4ad123f7f964a52003dd20e3</td>\n",
       "      <td>Cinco de Mayo</td>\n",
       "    </tr>\n",
       "    <tr>\n",
       "      <th>263</th>\n",
       "      <td>Brooklyn</td>\n",
       "      <td>Ditmas Park</td>\n",
       "      <td>52b1cc13498e28159d0fadb8</td>\n",
       "      <td>El Paso Mexican Grill</td>\n",
       "    </tr>\n",
       "    <tr>\n",
       "      <th>264</th>\n",
       "      <td>Brooklyn</td>\n",
       "      <td>Ditmas Park</td>\n",
       "      <td>5491cc2b498ea98016a548b2</td>\n",
       "      <td>Mallenche Mexican Grill</td>\n",
       "    </tr>\n",
       "    <tr>\n",
       "      <th>265</th>\n",
       "      <td>Brooklyn</td>\n",
       "      <td>Ditmas Park</td>\n",
       "      <td>4b79ee38f964a520f31a2fe3</td>\n",
       "      <td>El Ranchito Poblano</td>\n",
       "    </tr>\n",
       "    <tr>\n",
       "      <th>266</th>\n",
       "      <td>Brooklyn</td>\n",
       "      <td>Ditmas Park</td>\n",
       "      <td>57b3b186498ef68837df6be3</td>\n",
       "      <td>Mexico Diner</td>\n",
       "    </tr>\n",
       "    <tr>\n",
       "      <th>267</th>\n",
       "      <td>Brooklyn</td>\n",
       "      <td>Ditmas Park</td>\n",
       "      <td>4b5111c2f964a520b44027e3</td>\n",
       "      <td>Los Mariachis</td>\n",
       "    </tr>\n",
       "    <tr>\n",
       "      <th>268</th>\n",
       "      <td>Brooklyn</td>\n",
       "      <td>Ditmas Park</td>\n",
       "      <td>4b92e166f964a520062434e3</td>\n",
       "      <td>Don Burrito</td>\n",
       "    </tr>\n",
       "  </tbody>\n",
       "</table>\n",
       "</div>"
      ],
      "text/plain": [
       "      Borough Neighborhood                        ID                     Name\n",
       "261  Brooklyn  Ditmas Park  596938a0a22db76efcd439a6       Los Tres Chiflados\n",
       "262  Brooklyn  Ditmas Park  4ad123f7f964a52003dd20e3            Cinco de Mayo\n",
       "263  Brooklyn  Ditmas Park  52b1cc13498e28159d0fadb8    El Paso Mexican Grill\n",
       "264  Brooklyn  Ditmas Park  5491cc2b498ea98016a548b2  Mallenche Mexican Grill\n",
       "265  Brooklyn  Ditmas Park  4b79ee38f964a520f31a2fe3      El Ranchito Poblano\n",
       "266  Brooklyn  Ditmas Park  57b3b186498ef68837df6be3             Mexico Diner\n",
       "267  Brooklyn  Ditmas Park  4b5111c2f964a520b44027e3            Los Mariachis\n",
       "268  Brooklyn  Ditmas Park  4b92e166f964a520062434e3              Don Burrito"
      ]
     },
     "execution_count": 46,
     "metadata": {},
     "output_type": "execute_result"
    }
   ],
   "source": [
    "mexican_rest_ny[mexican_rest_ny['Neighborhood']=='Ditmas Park']"
   ]
  },
  {
   "cell_type": "markdown",
   "metadata": {},
   "source": [
    "So Ditmas Park in Brooklyn has the highest number of Mexican Resturants with a total count of 8."
   ]
  },
  {
   "cell_type": "markdown",
   "metadata": {},
   "source": [
    "Now we will get the ranking of each resturant for further analysis."
   ]
  },
  {
   "cell_type": "code",
   "execution_count": 47,
   "metadata": {},
   "outputs": [
    {
     "name": "stdout",
     "output_type": "stream",
     "text": [
      "                         ID                    Name  Likes  Rating  Tips\n",
      "0  5c47a4b21953f3002c558218  Chipotle Mexican Grill      0     7.5     0\n",
      "( 1 / 328 ) processed\n",
      "                         ID                   Name  Likes  Rating  Tips\n",
      "0  58582b156431e554e165d909  Moe's Southwest Grill      1     6.6     0\n",
      "( 2 / 328 ) processed\n",
      "                         ID          Name  Likes  Rating  Tips\n",
      "0  523f6e14498ef6fdefc0d690  Burrito Shop     10     6.9     4\n",
      "( 3 / 328 ) processed\n",
      "                         ID                  Name  Likes  Rating  Tips\n",
      "0  4b78ba71f964a5209fdf2ee3  Santa Fe Grill & Bar     11     6.3    17\n",
      "( 4 / 328 ) processed\n",
      "Empty DataFrame\n",
      "Columns: [ID, Name, Likes, Rating, Tips]\n",
      "Index: []\n",
      "No data available for id= 5ce9664e3731ee002baae6ed\n",
      "( 5 / 328 ) processed\n",
      "                         ID           Name  Likes  Rating  Tips\n",
      "0  590e5d2ce96d0c61de2dcf1d  Cocina Chente     13     8.9     5\n",
      "( 6 / 328 ) processed\n",
      "                         ID    Name  Likes  Rating  Tips\n",
      "0  4db45c96fa8c350240e35919  Metate     19     6.6    10\n",
      "( 7 / 328 ) processed\n",
      "                         ID                                Name  Likes  \\\n",
      "0  4ce81d330f196dcb5d2b43ae  Picante Picante Mexican Restaurant     19   \n",
      "\n",
      "   Rating  Tips  \n",
      "0     8.2    14  \n",
      "( 8 / 328 ) processed\n",
      "                         ID                  Name  Likes  Rating  Tips\n",
      "0  5217dd2811d2d06ccafb77d3  Estrellita Poblana V     24     8.1     9\n",
      "( 9 / 328 ) processed\n",
      "                         ID           Name  Likes  Rating  Tips\n",
      "0  590e5d2ce96d0c61de2dcf1d  Cocina Chente     13     8.9     5\n",
      "( 10 / 328 ) processed\n",
      "                         ID                    Name  Likes  Rating  Tips\n",
      "0  553d5376498e322eb4d37a1b  Chipotle Mexican Grill     31     7.7     1\n",
      "( 11 / 328 ) processed\n",
      "                         ID          Name  Likes  Rating  Tips\n",
      "0  523f6e14498ef6fdefc0d690  Burrito Shop     10     6.9     4\n",
      "( 12 / 328 ) processed\n",
      "                         ID    Name  Likes  Rating  Tips\n",
      "0  4db45c96fa8c350240e35919  Metate     19     6.6    10\n",
      "( 13 / 328 ) processed\n",
      "                         ID                  Name  Likes  Rating  Tips\n",
      "0  5217dd2811d2d06ccafb77d3  Estrellita Poblana V     24     8.1     9\n",
      "( 14 / 328 ) processed\n",
      "                         ID                                Name  Likes  \\\n",
      "0  4ce81d330f196dcb5d2b43ae  Picante Picante Mexican Restaurant     19   \n",
      "\n",
      "   Rating  Tips  \n",
      "0     8.2    14  \n",
      "( 15 / 328 ) processed\n",
      "                         ID       Name  Likes  Rating  Tips\n",
      "0  5830ff3044587f7beb2271cc  Guacamole     13     8.1     2\n",
      "( 16 / 328 ) processed\n",
      "Empty DataFrame\n",
      "Columns: [ID, Name, Likes, Rating, Tips]\n",
      "Index: []\n",
      "No data available for id= 4e4c9e1318388d49816b44d8\n",
      "( 17 / 328 ) processed\n",
      "                         ID            Name  Likes  Rating  Tips\n",
      "0  4e74ebead1643f93b1b05d2c  Queen of Tacos      5     7.3     7\n",
      "( 18 / 328 ) processed\n",
      "                         ID                      Name  Likes  Rating  Tips\n",
      "0  4e4d0389bd413c4cc66dfd84  Las Maravillas De Mexico      6     7.5     3\n",
      "( 19 / 328 ) processed\n",
      "Empty DataFrame\n",
      "Columns: [ID, Name, Likes, Rating, Tips]\n",
      "Index: []\n",
      "No data available for id= 4f0f71a1e4b061b771f6b4a6\n",
      "( 20 / 328 ) processed\n",
      "                         ID                    Name  Likes  Rating  Tips\n",
      "0  5c47a4b21953f3002c558218  Chipotle Mexican Grill      0     7.5     0\n",
      "( 21 / 328 ) processed\n",
      "                         ID                   Name  Likes  Rating  Tips\n",
      "0  58582b156431e554e165d909  Moe's Southwest Grill      1     6.6     0\n",
      "( 22 / 328 ) processed\n",
      "Empty DataFrame\n",
      "Columns: [ID, Name, Likes, Rating, Tips]\n",
      "Index: []\n",
      "No data available for id= 4ba64483f964a520c64039e3\n",
      "( 23 / 328 ) processed\n",
      "                         ID                      Name  Likes  Rating  Tips\n",
      "0  4e4d0389bd413c4cc66dfd84  Las Maravillas De Mexico      6     7.5     3\n",
      "( 24 / 328 ) processed\n",
      "                         ID           Name  Likes  Rating  Tips\n",
      "0  4bab9998f964a520c8b73ae3  OK Mr. Pancho      6     6.9     4\n",
      "( 25 / 328 ) processed\n",
      "Empty DataFrame\n",
      "Columns: [ID, Name, Likes, Rating, Tips]\n",
      "Index: []\n",
      "No data available for id= 4f0f71a1e4b061b771f6b4a6\n",
      "( 26 / 328 ) processed\n",
      "                         ID                    Name  Likes  Rating  Tips\n",
      "0  5529d964498ec65bfc27ad91  Chipotle Mexican Grill     24     6.7     5\n",
      "( 27 / 328 ) processed\n",
      "                         ID              Name  Likes  Rating  Tips\n",
      "0  4e45be7f7d8b91a065860b86  Wholly guacamole      9     8.0     0\n",
      "( 28 / 328 ) processed\n",
      "                         ID                          Name  Likes  Rating  Tips\n",
      "0  4b46a46ef964a5201d2626e3  Xochimilco Family Restaurant     34     8.8     8\n",
      "( 29 / 328 ) processed\n",
      "                         ID        Name  Likes  Rating  Tips\n",
      "0  4bf1b1ef3fa220a150991820  Mexicocina     55     8.8    24\n",
      "( 30 / 328 ) processed\n",
      "                         ID                 Name  Likes  Rating  Tips\n",
      "0  54bc5fe2498e8ddf27d64304  Mexicozina Taqueria     14     8.0     3\n",
      "( 31 / 328 ) processed\n",
      "                         ID           Name  Likes  Rating  Tips\n",
      "0  5591837d498ee4167d48bb73  Cinco de Mayo      8     7.3     3\n",
      "( 32 / 328 ) processed\n",
      "                         ID        Name  Likes  Rating  Tips\n",
      "0  50746051f13668d669c6b9ed  Mexicocina     11     7.7     7\n",
      "( 33 / 328 ) processed\n",
      "                         ID          Name  Likes  Rating  Tips\n",
      "0  4e760eb418506506ccae1213  El Atoradera      8     5.7    12\n",
      "( 34 / 328 ) processed\n",
      "                         ID       Name  Likes  Rating  Tips\n",
      "0  4c0952f0bbc676b0b30148d5  La Morada     55     8.7    29\n",
      "( 35 / 328 ) processed\n",
      "                         ID        Name  Likes  Rating  Tips\n",
      "0  4bf1b1ef3fa220a150991820  Mexicocina     55     8.8    24\n",
      "( 36 / 328 ) processed\n",
      "                         ID        Name  Likes  Rating  Tips\n",
      "0  50746051f13668d669c6b9ed  Mexicocina     11     7.7     7\n",
      "( 37 / 328 ) processed\n",
      "                         ID                                Name  Likes  \\\n",
      "0  4d893cf17139b1f73ed0b1d4  Margherita Pizza & Mexican Cuisine      6   \n",
      "\n",
      "   Rating  Tips  \n",
      "0     8.2     6  \n",
      "( 38 / 328 ) processed\n",
      "                         ID          Name  Likes  Rating  Tips\n",
      "0  4e760eb418506506ccae1213  El Atoradera      8     5.7    12\n",
      "( 39 / 328 ) processed\n",
      "                         ID                                Name  Likes  \\\n",
      "0  4d893cf17139b1f73ed0b1d4  Margherita Pizza & Mexican Cuisine      6   \n",
      "\n",
      "   Rating  Tips  \n",
      "0     8.2     6  \n",
      "( 40 / 328 ) processed\n",
      "                         ID           Name  Likes  Rating  Tips\n",
      "0  5591837d498ee4167d48bb73  Cinco de Mayo      8     7.3     3\n",
      "( 41 / 328 ) processed\n",
      "                         ID                      Name  Likes  Rating  Tips\n",
      "0  4bad4cebf964a520b8433be3  Mexico Magico Restaurant     13     7.8    18\n",
      "( 42 / 328 ) processed\n",
      "Empty DataFrame\n",
      "Columns: [ID, Name, Likes, Rating, Tips]\n",
      "Index: []\n",
      "No data available for id= 5193a701498e02799e152cc6\n",
      "( 43 / 328 ) processed\n",
      "                         ID               Name  Likes  Rating  Tips\n",
      "0  4b4929d2f964a520656826e3  Taqueria Tlaxcali    130     9.1    72\n",
      "( 44 / 328 ) processed\n",
      "                         ID                Name  Likes  Rating  Tips\n",
      "0  4c2fe5367cc0c9b6699aec9a  Estrellita Poblana     35     7.7    18\n",
      "( 45 / 328 ) processed\n",
      "                         ID                   Name  Likes  Rating  Tips\n",
      "0  4b720280f964a520d9692de3  Estrellita Poblana IV     45     8.5    29\n",
      "( 46 / 328 ) processed\n",
      "Empty DataFrame\n",
      "Columns: [ID, Name, Likes, Rating, Tips]\n",
      "Index: []\n",
      "No data available for id= 5279469111d258a807003139\n",
      "( 47 / 328 ) processed\n",
      "                         ID                   Name  Likes  Rating  Tips\n",
      "0  4b720280f964a520d9692de3  Estrellita Poblana IV     45     8.5    29\n",
      "( 48 / 328 ) processed\n",
      "                         ID                Name  Likes  Rating  Tips\n",
      "0  4c27e5e0fe6e2d7f4f84523c  Estrellita Poblana     66     8.6    37\n",
      "( 49 / 328 ) processed\n",
      "                         ID                    Name  Likes  Rating  Tips\n",
      "0  5529d964498ec65bfc27ad91  Chipotle Mexican Grill     24     6.7     5\n",
      "( 50 / 328 ) processed\n"
     ]
    },
    {
     "ename": "KeyError",
     "evalue": "'venue'",
     "output_type": "error",
     "traceback": [
      "\u001b[0;31m---------------------------------------------------------------------------\u001b[0m",
      "\u001b[0;31mKeyError\u001b[0m                                  Traceback (most recent call last)",
      "\u001b[0;32m<ipython-input-47-85797940c94e>\u001b[0m in \u001b[0;36m<module>\u001b[0;34m\u001b[0m\n\u001b[1;32m      8\u001b[0m     \u001b[0mBorough\u001b[0m\u001b[0;34m,\u001b[0m\u001b[0mNeighborhood\u001b[0m\u001b[0;34m,\u001b[0m\u001b[0mID\u001b[0m\u001b[0;34m,\u001b[0m\u001b[0mName\u001b[0m\u001b[0;34m=\u001b[0m\u001b[0mrow\u001b[0m\u001b[0;34m\u001b[0m\u001b[0;34m\u001b[0m\u001b[0m\n\u001b[1;32m      9\u001b[0m     \u001b[0;32mtry\u001b[0m\u001b[0;34m:\u001b[0m\u001b[0;34m\u001b[0m\u001b[0;34m\u001b[0m\u001b[0m\n\u001b[0;32m---> 10\u001b[0;31m         \u001b[0mvenue_details\u001b[0m\u001b[0;34m=\u001b[0m\u001b[0mget_venue_details\u001b[0m\u001b[0;34m(\u001b[0m\u001b[0mID\u001b[0m\u001b[0;34m)\u001b[0m\u001b[0;34m\u001b[0m\u001b[0;34m\u001b[0m\u001b[0m\n\u001b[0m\u001b[1;32m     11\u001b[0m         \u001b[0mprint\u001b[0m\u001b[0;34m(\u001b[0m\u001b[0mvenue_details\u001b[0m\u001b[0;34m)\u001b[0m\u001b[0;34m\u001b[0m\u001b[0;34m\u001b[0m\u001b[0m\n\u001b[1;32m     12\u001b[0m         \u001b[0mid\u001b[0m\u001b[0;34m,\u001b[0m\u001b[0mname\u001b[0m\u001b[0;34m,\u001b[0m\u001b[0mlikes\u001b[0m\u001b[0;34m,\u001b[0m\u001b[0mrating\u001b[0m\u001b[0;34m,\u001b[0m\u001b[0mtips\u001b[0m\u001b[0;34m=\u001b[0m\u001b[0mvenue_details\u001b[0m\u001b[0;34m.\u001b[0m\u001b[0mvalues\u001b[0m\u001b[0;34m.\u001b[0m\u001b[0mtolist\u001b[0m\u001b[0;34m(\u001b[0m\u001b[0;34m)\u001b[0m\u001b[0;34m[\u001b[0m\u001b[0;36m0\u001b[0m\u001b[0;34m]\u001b[0m\u001b[0;34m\u001b[0m\u001b[0;34m\u001b[0m\u001b[0m\n",
      "\u001b[0;32m<ipython-input-32-916faee5952a>\u001b[0m in \u001b[0;36mget_venue_details\u001b[0;34m(venue_id)\u001b[0m\n\u001b[1;32m     14\u001b[0m     \u001b[0;31m# get all the data\u001b[0m\u001b[0;34m\u001b[0m\u001b[0;34m\u001b[0m\u001b[0;34m\u001b[0m\u001b[0m\n\u001b[1;32m     15\u001b[0m     \u001b[0mresults\u001b[0m \u001b[0;34m=\u001b[0m \u001b[0mrequests\u001b[0m\u001b[0;34m.\u001b[0m\u001b[0mget\u001b[0m\u001b[0;34m(\u001b[0m\u001b[0murl\u001b[0m\u001b[0;34m)\u001b[0m\u001b[0;34m.\u001b[0m\u001b[0mjson\u001b[0m\u001b[0;34m(\u001b[0m\u001b[0;34m)\u001b[0m\u001b[0;34m\u001b[0m\u001b[0;34m\u001b[0m\u001b[0m\n\u001b[0;32m---> 16\u001b[0;31m     \u001b[0mvenue_data\u001b[0m\u001b[0;34m=\u001b[0m\u001b[0mresults\u001b[0m\u001b[0;34m[\u001b[0m\u001b[0;34m'response'\u001b[0m\u001b[0;34m]\u001b[0m\u001b[0;34m[\u001b[0m\u001b[0;34m'venue'\u001b[0m\u001b[0;34m]\u001b[0m\u001b[0;34m\u001b[0m\u001b[0;34m\u001b[0m\u001b[0m\n\u001b[0m\u001b[1;32m     17\u001b[0m     \u001b[0mvenue_details\u001b[0m\u001b[0;34m=\u001b[0m\u001b[0;34m[\u001b[0m\u001b[0;34m]\u001b[0m\u001b[0;34m\u001b[0m\u001b[0;34m\u001b[0m\u001b[0m\n\u001b[1;32m     18\u001b[0m     \u001b[0;32mtry\u001b[0m\u001b[0;34m:\u001b[0m\u001b[0;34m\u001b[0m\u001b[0;34m\u001b[0m\u001b[0m\n",
      "\u001b[0;31mKeyError\u001b[0m: 'venue'"
     ]
    }
   ],
   "source": [
    "# prepare neighborhood list that contains Mexican resturants\n",
    "column_names=['Borough', 'Neighborhood', 'ID','Name','Likes','Rating','Tips']\n",
    "mexican_rest_stats_ny=pd.DataFrame(columns=column_names)\n",
    "count=1\n",
    "\n",
    "\n",
    "for row in mexican_rest_ny.values.tolist():\n",
    "    Borough,Neighborhood,ID,Name=row\n",
    "    try:\n",
    "        venue_details=get_venue_details(ID)\n",
    "        print(venue_details)\n",
    "        id,name,likes,rating,tips=venue_details.values.tolist()[0]\n",
    "    except IndexError:\n",
    "        print('No data available for id=',ID)\n",
    "        # we will assign 0 value for these resturants as they may have been \n",
    "        #recently opened or details does not exist in FourSquare Database\n",
    "        id,name,likes,rating,tips=[0]*5\n",
    "    print('(',count,'/',len(mexican_rest_ny),')','processed')\n",
    "    mexican_rest_stats_ny = mexican_rest_stats_ny.append({'Borough': Borough,\n",
    "                                                'Neighborhood': Neighborhood, \n",
    "                                                'ID': id,\n",
    "                                                'Name' : name,\n",
    "                                                'Likes' : likes,\n",
    "                                                'Rating' : rating,\n",
    "                                                'Tips' : tips\n",
    "                                               }, ignore_index=True)\n",
    "    count+=1"
   ]
  },
  {
   "cell_type": "code",
   "execution_count": 48,
   "metadata": {},
   "outputs": [
    {
     "data": {
      "text/html": [
       "<div>\n",
       "<style scoped>\n",
       "    .dataframe tbody tr th:only-of-type {\n",
       "        vertical-align: middle;\n",
       "    }\n",
       "\n",
       "    .dataframe tbody tr th {\n",
       "        vertical-align: top;\n",
       "    }\n",
       "\n",
       "    .dataframe thead th {\n",
       "        text-align: right;\n",
       "    }\n",
       "</style>\n",
       "<table border=\"1\" class=\"dataframe\">\n",
       "  <thead>\n",
       "    <tr style=\"text-align: right;\">\n",
       "      <th></th>\n",
       "      <th>Borough</th>\n",
       "      <th>Neighborhood</th>\n",
       "      <th>ID</th>\n",
       "      <th>Name</th>\n",
       "      <th>Likes</th>\n",
       "      <th>Rating</th>\n",
       "      <th>Tips</th>\n",
       "    </tr>\n",
       "  </thead>\n",
       "  <tbody>\n",
       "    <tr>\n",
       "      <th>0</th>\n",
       "      <td>Bronx</td>\n",
       "      <td>Co-op City</td>\n",
       "      <td>5c47a4b21953f3002c558218</td>\n",
       "      <td>Chipotle Mexican Grill</td>\n",
       "      <td>0</td>\n",
       "      <td>7.5</td>\n",
       "      <td>0</td>\n",
       "    </tr>\n",
       "    <tr>\n",
       "      <th>1</th>\n",
       "      <td>Bronx</td>\n",
       "      <td>Co-op City</td>\n",
       "      <td>58582b156431e554e165d909</td>\n",
       "      <td>Moe's Southwest Grill</td>\n",
       "      <td>1</td>\n",
       "      <td>6.6</td>\n",
       "      <td>0</td>\n",
       "    </tr>\n",
       "    <tr>\n",
       "      <th>2</th>\n",
       "      <td>Bronx</td>\n",
       "      <td>Fieldston</td>\n",
       "      <td>523f6e14498ef6fdefc0d690</td>\n",
       "      <td>Burrito Shop</td>\n",
       "      <td>10</td>\n",
       "      <td>6.9</td>\n",
       "      <td>4</td>\n",
       "    </tr>\n",
       "    <tr>\n",
       "      <th>3</th>\n",
       "      <td>Bronx</td>\n",
       "      <td>Fieldston</td>\n",
       "      <td>4b78ba71f964a5209fdf2ee3</td>\n",
       "      <td>Santa Fe Grill &amp; Bar</td>\n",
       "      <td>11</td>\n",
       "      <td>6.3</td>\n",
       "      <td>17</td>\n",
       "    </tr>\n",
       "    <tr>\n",
       "      <th>4</th>\n",
       "      <td>Bronx</td>\n",
       "      <td>Fieldston</td>\n",
       "      <td>0</td>\n",
       "      <td>0</td>\n",
       "      <td>0</td>\n",
       "      <td>0.0</td>\n",
       "      <td>0</td>\n",
       "    </tr>\n",
       "  </tbody>\n",
       "</table>\n",
       "</div>"
      ],
      "text/plain": [
       "  Borough Neighborhood                        ID                    Name  \\\n",
       "0   Bronx   Co-op City  5c47a4b21953f3002c558218  Chipotle Mexican Grill   \n",
       "1   Bronx   Co-op City  58582b156431e554e165d909   Moe's Southwest Grill   \n",
       "2   Bronx    Fieldston  523f6e14498ef6fdefc0d690            Burrito Shop   \n",
       "3   Bronx    Fieldston  4b78ba71f964a5209fdf2ee3    Santa Fe Grill & Bar   \n",
       "4   Bronx    Fieldston                         0                       0   \n",
       "\n",
       "  Likes  Rating Tips  \n",
       "0     0     7.5    0  \n",
       "1     1     6.6    0  \n",
       "2    10     6.9    4  \n",
       "3    11     6.3   17  \n",
       "4     0     0.0    0  "
      ]
     },
     "execution_count": 48,
     "metadata": {},
     "output_type": "execute_result"
    }
   ],
   "source": [
    "mexican_rest_stats_ny.head()"
   ]
  },
  {
   "cell_type": "code",
   "execution_count": 49,
   "metadata": {},
   "outputs": [
    {
     "data": {
      "text/plain": [
       "(50, 7)"
      ]
     },
     "execution_count": 49,
     "metadata": {},
     "output_type": "execute_result"
    }
   ],
   "source": [
    "mexican_rest_stats_ny.shape"
   ]
  },
  {
   "cell_type": "code",
   "execution_count": 50,
   "metadata": {},
   "outputs": [
    {
     "data": {
      "text/plain": [
       "(328, 4)"
      ]
     },
     "execution_count": 50,
     "metadata": {},
     "output_type": "execute_result"
    }
   ],
   "source": [
    "mexican_rest_ny.shape"
   ]
  },
  {
   "cell_type": "markdown",
   "metadata": {},
   "source": [
    "So we got data for all resturants\n",
    "Now lets save this data to a csv sheet. In case we by mistake modify it.\n",
    "As the number of calls to get details for venue are premium call and have limit of 500 per day, we will refer to saved data sheet csv if required"
   ]
  },
  {
   "cell_type": "code",
   "execution_count": 51,
   "metadata": {},
   "outputs": [],
   "source": [
    "mexican_rest_stats_ny.to_csv('mexican_rest_stats_ny.csv', index=False)"
   ]
  },
  {
   "cell_type": "markdown",
   "metadata": {},
   "source": [
    "Lets verify the data from saved csv file"
   ]
  },
  {
   "cell_type": "code",
   "execution_count": 52,
   "metadata": {},
   "outputs": [],
   "source": [
    "mexican_rest_stats_ny_csv=pd.read_csv('mexican_rest_stats_ny.csv')"
   ]
  },
  {
   "cell_type": "code",
   "execution_count": 53,
   "metadata": {},
   "outputs": [
    {
     "data": {
      "text/plain": [
       "(50, 7)"
      ]
     },
     "execution_count": 53,
     "metadata": {},
     "output_type": "execute_result"
    }
   ],
   "source": [
    "mexican_rest_stats_ny_csv.shape"
   ]
  },
  {
   "cell_type": "code",
   "execution_count": 54,
   "metadata": {},
   "outputs": [
    {
     "data": {
      "text/html": [
       "<div>\n",
       "<style scoped>\n",
       "    .dataframe tbody tr th:only-of-type {\n",
       "        vertical-align: middle;\n",
       "    }\n",
       "\n",
       "    .dataframe tbody tr th {\n",
       "        vertical-align: top;\n",
       "    }\n",
       "\n",
       "    .dataframe thead th {\n",
       "        text-align: right;\n",
       "    }\n",
       "</style>\n",
       "<table border=\"1\" class=\"dataframe\">\n",
       "  <thead>\n",
       "    <tr style=\"text-align: right;\">\n",
       "      <th></th>\n",
       "      <th>Borough</th>\n",
       "      <th>Neighborhood</th>\n",
       "      <th>ID</th>\n",
       "      <th>Name</th>\n",
       "      <th>Likes</th>\n",
       "      <th>Rating</th>\n",
       "      <th>Tips</th>\n",
       "    </tr>\n",
       "  </thead>\n",
       "  <tbody>\n",
       "    <tr>\n",
       "      <th>0</th>\n",
       "      <td>Bronx</td>\n",
       "      <td>Co-op City</td>\n",
       "      <td>5c47a4b21953f3002c558218</td>\n",
       "      <td>Chipotle Mexican Grill</td>\n",
       "      <td>0</td>\n",
       "      <td>7.5</td>\n",
       "      <td>0</td>\n",
       "    </tr>\n",
       "    <tr>\n",
       "      <th>1</th>\n",
       "      <td>Bronx</td>\n",
       "      <td>Co-op City</td>\n",
       "      <td>58582b156431e554e165d909</td>\n",
       "      <td>Moe's Southwest Grill</td>\n",
       "      <td>1</td>\n",
       "      <td>6.6</td>\n",
       "      <td>0</td>\n",
       "    </tr>\n",
       "    <tr>\n",
       "      <th>2</th>\n",
       "      <td>Bronx</td>\n",
       "      <td>Fieldston</td>\n",
       "      <td>523f6e14498ef6fdefc0d690</td>\n",
       "      <td>Burrito Shop</td>\n",
       "      <td>10</td>\n",
       "      <td>6.9</td>\n",
       "      <td>4</td>\n",
       "    </tr>\n",
       "    <tr>\n",
       "      <th>3</th>\n",
       "      <td>Bronx</td>\n",
       "      <td>Fieldston</td>\n",
       "      <td>4b78ba71f964a5209fdf2ee3</td>\n",
       "      <td>Santa Fe Grill &amp; Bar</td>\n",
       "      <td>11</td>\n",
       "      <td>6.3</td>\n",
       "      <td>17</td>\n",
       "    </tr>\n",
       "    <tr>\n",
       "      <th>4</th>\n",
       "      <td>Bronx</td>\n",
       "      <td>Fieldston</td>\n",
       "      <td>0</td>\n",
       "      <td>0</td>\n",
       "      <td>0</td>\n",
       "      <td>0.0</td>\n",
       "      <td>0</td>\n",
       "    </tr>\n",
       "  </tbody>\n",
       "</table>\n",
       "</div>"
      ],
      "text/plain": [
       "  Borough Neighborhood                        ID                    Name  \\\n",
       "0   Bronx   Co-op City  5c47a4b21953f3002c558218  Chipotle Mexican Grill   \n",
       "1   Bronx   Co-op City  58582b156431e554e165d909   Moe's Southwest Grill   \n",
       "2   Bronx    Fieldston  523f6e14498ef6fdefc0d690            Burrito Shop   \n",
       "3   Bronx    Fieldston  4b78ba71f964a5209fdf2ee3    Santa Fe Grill & Bar   \n",
       "4   Bronx    Fieldston                         0                       0   \n",
       "\n",
       "   Likes  Rating  Tips  \n",
       "0      0     7.5     0  \n",
       "1      1     6.6     0  \n",
       "2     10     6.9     4  \n",
       "3     11     6.3    17  \n",
       "4      0     0.0     0  "
      ]
     },
     "execution_count": 54,
     "metadata": {},
     "output_type": "execute_result"
    }
   ],
   "source": [
    "mexican_rest_stats_ny_csv.head()"
   ]
  },
  {
   "cell_type": "code",
   "execution_count": 55,
   "metadata": {},
   "outputs": [
    {
     "name": "stdout",
     "output_type": "stream",
     "text": [
      "<class 'pandas.core.frame.DataFrame'>\n",
      "RangeIndex: 50 entries, 0 to 49\n",
      "Data columns (total 7 columns):\n",
      "Borough         50 non-null object\n",
      "Neighborhood    50 non-null object\n",
      "ID              50 non-null object\n",
      "Name            50 non-null object\n",
      "Likes           50 non-null object\n",
      "Rating          50 non-null float64\n",
      "Tips            50 non-null object\n",
      "dtypes: float64(1), object(6)\n",
      "memory usage: 2.8+ KB\n"
     ]
    }
   ],
   "source": [
    "mexican_rest_stats_ny.info()"
   ]
  },
  {
   "cell_type": "markdown",
   "metadata": {},
   "source": [
    "We see that values like Likes, Tips are strig values. We would need to convert them into float for further analysis"
   ]
  },
  {
   "cell_type": "code",
   "execution_count": 56,
   "metadata": {},
   "outputs": [],
   "source": [
    "mexican_rest_stats_ny['Likes']=mexican_rest_stats_ny['Likes'].astype('float64')"
   ]
  },
  {
   "cell_type": "code",
   "execution_count": 57,
   "metadata": {},
   "outputs": [],
   "source": [
    "mexican_rest_stats_ny['Tips']=mexican_rest_stats_ny['Tips'].astype('float64')"
   ]
  },
  {
   "cell_type": "code",
   "execution_count": 58,
   "metadata": {},
   "outputs": [
    {
     "name": "stdout",
     "output_type": "stream",
     "text": [
      "<class 'pandas.core.frame.DataFrame'>\n",
      "RangeIndex: 50 entries, 0 to 49\n",
      "Data columns (total 7 columns):\n",
      "Borough         50 non-null object\n",
      "Neighborhood    50 non-null object\n",
      "ID              50 non-null object\n",
      "Name            50 non-null object\n",
      "Likes           50 non-null float64\n",
      "Rating          50 non-null float64\n",
      "Tips            50 non-null float64\n",
      "dtypes: float64(3), object(4)\n",
      "memory usage: 2.8+ KB\n"
     ]
    }
   ],
   "source": [
    "mexican_rest_stats_ny.info()"
   ]
  },
  {
   "cell_type": "markdown",
   "metadata": {},
   "source": [
    "Now the data types looks correct"
   ]
  },
  {
   "cell_type": "code",
   "execution_count": 59,
   "metadata": {},
   "outputs": [
    {
     "data": {
      "text/plain": [
       "Borough                            Bronx\n",
       "Neighborhood                 Parkchester\n",
       "ID              4b4929d2f964a520656826e3\n",
       "Name                   Taqueria Tlaxcali\n",
       "Likes                                130\n",
       "Rating                               9.1\n",
       "Tips                                  72\n",
       "Name: 43, dtype: object"
      ]
     },
     "execution_count": 59,
     "metadata": {},
     "output_type": "execute_result"
    }
   ],
   "source": [
    "# Resturant with maximum Likes\n",
    "mexican_rest_stats_ny.iloc[mexican_rest_stats_ny['Likes'].idxmax()]"
   ]
  },
  {
   "cell_type": "code",
   "execution_count": 60,
   "metadata": {},
   "outputs": [
    {
     "data": {
      "text/plain": [
       "Borough                            Bronx\n",
       "Neighborhood                 Parkchester\n",
       "ID              4b4929d2f964a520656826e3\n",
       "Name                   Taqueria Tlaxcali\n",
       "Likes                                130\n",
       "Rating                               9.1\n",
       "Tips                                  72\n",
       "Name: 43, dtype: object"
      ]
     },
     "execution_count": 60,
     "metadata": {},
     "output_type": "execute_result"
    }
   ],
   "source": [
    "# Resturant with maximum Rating\n",
    "mexican_rest_stats_ny.iloc[mexican_rest_stats_ny['Rating'].idxmax()]"
   ]
  },
  {
   "cell_type": "code",
   "execution_count": 83,
   "metadata": {},
   "outputs": [
    {
     "data": {
      "text/plain": [
       "Borough                            Bronx\n",
       "Neighborhood                 Parkchester\n",
       "ID              4b4929d2f964a520656826e3\n",
       "Name                   Taqueria Tlaxcali\n",
       "Likes                                130\n",
       "Rating                               9.1\n",
       "Tips                                  72\n",
       "Name: 43, dtype: object"
      ]
     },
     "execution_count": 83,
     "metadata": {},
     "output_type": "execute_result"
    }
   ],
   "source": [
    "# Resturant with maximum Tips\n",
    "mexican_rest_stats_ny.iloc[mexican_rest_stats_ny['Tips'].idxmax()]"
   ]
  },
  {
   "cell_type": "markdown",
   "metadata": {},
   "source": [
    "Now lets visualize neighborhood with maximum average rating of resturants"
   ]
  },
  {
   "cell_type": "code",
   "execution_count": 84,
   "metadata": {},
   "outputs": [],
   "source": [
    "ny_neighborhood_stats=mexican_rest_stats_ny.groupby('Neighborhood',as_index=False).mean()[['Neighborhood','Rating']]\n",
    "ny_neighborhood_stats.columns=['Neighborhood','Average Rating']"
   ]
  },
  {
   "cell_type": "code",
   "execution_count": 92,
   "metadata": {},
   "outputs": [
    {
     "data": {
      "text/html": [
       "<div>\n",
       "<style scoped>\n",
       "    .dataframe tbody tr th:only-of-type {\n",
       "        vertical-align: middle;\n",
       "    }\n",
       "\n",
       "    .dataframe tbody tr th {\n",
       "        vertical-align: top;\n",
       "    }\n",
       "\n",
       "    .dataframe thead th {\n",
       "        text-align: right;\n",
       "    }\n",
       "</style>\n",
       "<table border=\"1\" class=\"dataframe\">\n",
       "  <thead>\n",
       "    <tr style=\"text-align: right;\">\n",
       "      <th></th>\n",
       "      <th>Neighborhood</th>\n",
       "      <th>Average Rating</th>\n",
       "    </tr>\n",
       "  </thead>\n",
       "  <tbody>\n",
       "    <tr>\n",
       "      <th>20</th>\n",
       "      <td>Westchester Square</td>\n",
       "      <td>8.500000</td>\n",
       "    </tr>\n",
       "    <tr>\n",
       "      <th>12</th>\n",
       "      <td>Morris Park</td>\n",
       "      <td>8.500000</td>\n",
       "    </tr>\n",
       "    <tr>\n",
       "      <th>16</th>\n",
       "      <td>Parkchester</td>\n",
       "      <td>8.400000</td>\n",
       "    </tr>\n",
       "    <tr>\n",
       "      <th>14</th>\n",
       "      <td>Mott Haven</td>\n",
       "      <td>8.400000</td>\n",
       "    </tr>\n",
       "    <tr>\n",
       "      <th>7</th>\n",
       "      <td>High  Bridge</td>\n",
       "      <td>8.000000</td>\n",
       "    </tr>\n",
       "    <tr>\n",
       "      <th>18</th>\n",
       "      <td>Riverdale</td>\n",
       "      <td>7.750000</td>\n",
       "    </tr>\n",
       "    <tr>\n",
       "      <th>13</th>\n",
       "      <td>Morrisania</td>\n",
       "      <td>7.750000</td>\n",
       "    </tr>\n",
       "    <tr>\n",
       "      <th>8</th>\n",
       "      <td>Kingsbridge</td>\n",
       "      <td>7.733333</td>\n",
       "    </tr>\n",
       "    <tr>\n",
       "      <th>11</th>\n",
       "      <td>Melrose</td>\n",
       "      <td>7.716667</td>\n",
       "    </tr>\n",
       "    <tr>\n",
       "      <th>2</th>\n",
       "      <td>Belmont</td>\n",
       "      <td>7.650000</td>\n",
       "    </tr>\n",
       "    <tr>\n",
       "      <th>0</th>\n",
       "      <td>Baychester</td>\n",
       "      <td>7.050000</td>\n",
       "    </tr>\n",
       "    <tr>\n",
       "      <th>3</th>\n",
       "      <td>Co-op City</td>\n",
       "      <td>7.050000</td>\n",
       "    </tr>\n",
       "    <tr>\n",
       "      <th>9</th>\n",
       "      <td>Longwood</td>\n",
       "      <td>6.950000</td>\n",
       "    </tr>\n",
       "    <tr>\n",
       "      <th>6</th>\n",
       "      <td>Fordham</td>\n",
       "      <td>6.700000</td>\n",
       "    </tr>\n",
       "    <tr>\n",
       "      <th>10</th>\n",
       "      <td>Marble Hill</td>\n",
       "      <td>6.100000</td>\n",
       "    </tr>\n",
       "    <tr>\n",
       "      <th>15</th>\n",
       "      <td>Norwood</td>\n",
       "      <td>4.933333</td>\n",
       "    </tr>\n",
       "    <tr>\n",
       "      <th>1</th>\n",
       "      <td>Bedford Park</td>\n",
       "      <td>4.800000</td>\n",
       "    </tr>\n",
       "    <tr>\n",
       "      <th>5</th>\n",
       "      <td>Fieldston</td>\n",
       "      <td>4.400000</td>\n",
       "    </tr>\n",
       "    <tr>\n",
       "      <th>4</th>\n",
       "      <td>Country Club</td>\n",
       "      <td>3.900000</td>\n",
       "    </tr>\n",
       "  </tbody>\n",
       "</table>\n",
       "</div>"
      ],
      "text/plain": [
       "          Neighborhood  Average Rating\n",
       "20  Westchester Square        8.500000\n",
       "12         Morris Park        8.500000\n",
       "16         Parkchester        8.400000\n",
       "14          Mott Haven        8.400000\n",
       "7         High  Bridge        8.000000\n",
       "18           Riverdale        7.750000\n",
       "13          Morrisania        7.750000\n",
       "8          Kingsbridge        7.733333\n",
       "11             Melrose        7.716667\n",
       "2              Belmont        7.650000\n",
       "0           Baychester        7.050000\n",
       "3           Co-op City        7.050000\n",
       "9             Longwood        6.950000\n",
       "6              Fordham        6.700000\n",
       "10         Marble Hill        6.100000\n",
       "15             Norwood        4.933333\n",
       "1         Bedford Park        4.800000\n",
       "5            Fieldston        4.400000\n",
       "4         Country Club        3.900000"
      ]
     },
     "execution_count": 92,
     "metadata": {},
     "output_type": "execute_result"
    }
   ],
   "source": [
    "ny_neighborhood_stats.sort_values(['Average Rating'],ascending=False)"
   ]
  },
  {
   "cell_type": "markdown",
   "metadata": {},
   "source": [
    "Above are the top neighborhoods with top average rating of mexican resturants"
   ]
  },
  {
   "cell_type": "code",
   "execution_count": 90,
   "metadata": {},
   "outputs": [],
   "source": [
    "ny_borough_stats=mexican_rest_stats_ny.groupby('Borough',as_index=False).mean()[['Borough','Rating']]\n",
    "ny_borough_stats.columns=['Borough','Average Rating']"
   ]
  },
  {
   "cell_type": "code",
   "execution_count": 91,
   "metadata": {},
   "outputs": [
    {
     "data": {
      "text/html": [
       "<div>\n",
       "<style scoped>\n",
       "    .dataframe tbody tr th:only-of-type {\n",
       "        vertical-align: middle;\n",
       "    }\n",
       "\n",
       "    .dataframe tbody tr th {\n",
       "        vertical-align: top;\n",
       "    }\n",
       "\n",
       "    .dataframe thead th {\n",
       "        text-align: right;\n",
       "    }\n",
       "</style>\n",
       "<table border=\"1\" class=\"dataframe\">\n",
       "  <thead>\n",
       "    <tr style=\"text-align: right;\">\n",
       "      <th></th>\n",
       "      <th>Borough</th>\n",
       "      <th>Average Rating</th>\n",
       "    </tr>\n",
       "  </thead>\n",
       "  <tbody>\n",
       "    <tr>\n",
       "      <th>0</th>\n",
       "      <td>Bronx</td>\n",
       "      <td>6.630435</td>\n",
       "    </tr>\n",
       "    <tr>\n",
       "      <th>1</th>\n",
       "      <td>Manhattan</td>\n",
       "      <td>6.100000</td>\n",
       "    </tr>\n",
       "  </tbody>\n",
       "</table>\n",
       "</div>"
      ],
      "text/plain": [
       "     Borough  Average Rating\n",
       "0      Bronx        6.630435\n",
       "1  Manhattan        6.100000"
      ]
     },
     "execution_count": 91,
     "metadata": {},
     "output_type": "execute_result"
    }
   ],
   "source": [
    "ny_borough_stats.sort_values(['Average Rating'],ascending=False).head()"
   ]
  },
  {
   "cell_type": "markdown",
   "metadata": {},
   "source": [
    "Similarly these are the average rating of mexican Resturants for each Borough"
   ]
  },
  {
   "cell_type": "markdown",
   "metadata": {},
   "source": [
    "Lets visualize it"
   ]
  },
  {
   "cell_type": "code",
   "execution_count": 76,
   "metadata": {},
   "outputs": [
    {
     "data": {
      "image/png": "[encoded data removed]",
      "text/plain": [
       "<Figure size 900x500 with 1 Axes>"
      ]
     },
     "metadata": {
      "needs_background": "light"
     },
     "output_type": "display_data"
    }
   ],
   "source": [
    "plt.figure(figsize=(9,5), dpi = 100)\n",
    "# title\n",
    "plt.title('Average rating of Mexican Resturants for each Borough')\n",
    "#On x-axis\n",
    "plt.xlabel('Borough', fontsize = 15)\n",
    "#On y-axis\n",
    "plt.ylabel('Average Rating', fontsize=15)\n",
    "#giving a bar plot\n",
    "mexican_rest_stats_ny.groupby('Borough').mean()['Rating'].plot(kind='bar')\n",
    "#legend\n",
    "plt.legend()\n",
    "#displays the plot\n",
    "plt.show()"
   ]
  },
  {
   "cell_type": "markdown",
   "metadata": {},
   "source": [
    "We will consider all the neighborhoods with average rating greater or equal 9.0 to visualize on map"
   ]
  },
  {
   "cell_type": "code",
   "execution_count": 89,
   "metadata": {},
   "outputs": [],
   "source": [
    "ny_neighborhood_stats=ny_neighborhood_stats[ny_neighborhood_stats['Average Rating']>=1.0]"
   ]
  },
  {
   "cell_type": "code",
   "execution_count": 80,
   "metadata": {},
   "outputs": [
    {
     "data": {
      "text/html": [
       "<div>\n",
       "<style scoped>\n",
       "    .dataframe tbody tr th:only-of-type {\n",
       "        vertical-align: middle;\n",
       "    }\n",
       "\n",
       "    .dataframe tbody tr th {\n",
       "        vertical-align: top;\n",
       "    }\n",
       "\n",
       "    .dataframe thead th {\n",
       "        text-align: right;\n",
       "    }\n",
       "</style>\n",
       "<table border=\"1\" class=\"dataframe\">\n",
       "  <thead>\n",
       "    <tr style=\"text-align: right;\">\n",
       "      <th></th>\n",
       "      <th>Neighborhood</th>\n",
       "      <th>Average Rating</th>\n",
       "    </tr>\n",
       "  </thead>\n",
       "  <tbody>\n",
       "  </tbody>\n",
       "</table>\n",
       "</div>"
      ],
      "text/plain": [
       "Empty DataFrame\n",
       "Columns: [Neighborhood, Average Rating]\n",
       "Index: []"
      ]
     },
     "execution_count": 80,
     "metadata": {},
     "output_type": "execute_result"
    }
   ],
   "source": [
    "ny_neighborhood_stats"
   ]
  },
  {
   "cell_type": "markdown",
   "metadata": {},
   "source": [
    "We will join this dataset to original new york data to get lonitude and latitude"
   ]
  },
  {
   "cell_type": "code",
   "execution_count": 93,
   "metadata": {},
   "outputs": [],
   "source": [
    "ny_neighborhood_stats=pd.merge(ny_neighborhood_stats,new_york_data, on='Neighborhood')"
   ]
  },
  {
   "cell_type": "code",
   "execution_count": 94,
   "metadata": {},
   "outputs": [],
   "source": [
    "ny_neighborhood_stats=ny_neighborhood_stats[['Borough','Neighborhood','Latitude','Longitude','Average Rating']]"
   ]
  },
  {
   "cell_type": "code",
   "execution_count": 95,
   "metadata": {},
   "outputs": [
    {
     "data": {
      "text/html": [
       "<div>\n",
       "<style scoped>\n",
       "    .dataframe tbody tr th:only-of-type {\n",
       "        vertical-align: middle;\n",
       "    }\n",
       "\n",
       "    .dataframe tbody tr th {\n",
       "        vertical-align: top;\n",
       "    }\n",
       "\n",
       "    .dataframe thead th {\n",
       "        text-align: right;\n",
       "    }\n",
       "</style>\n",
       "<table border=\"1\" class=\"dataframe\">\n",
       "  <thead>\n",
       "    <tr style=\"text-align: right;\">\n",
       "      <th></th>\n",
       "      <th>Borough</th>\n",
       "      <th>Neighborhood</th>\n",
       "      <th>Latitude</th>\n",
       "      <th>Longitude</th>\n",
       "      <th>Average Rating</th>\n",
       "    </tr>\n",
       "  </thead>\n",
       "  <tbody>\n",
       "    <tr>\n",
       "      <th>0</th>\n",
       "      <td>Bronx</td>\n",
       "      <td>Baychester</td>\n",
       "      <td>40.866858</td>\n",
       "      <td>-73.835798</td>\n",
       "      <td>7.050000</td>\n",
       "    </tr>\n",
       "    <tr>\n",
       "      <th>1</th>\n",
       "      <td>Bronx</td>\n",
       "      <td>Bedford Park</td>\n",
       "      <td>40.870185</td>\n",
       "      <td>-73.885512</td>\n",
       "      <td>4.800000</td>\n",
       "    </tr>\n",
       "    <tr>\n",
       "      <th>2</th>\n",
       "      <td>Bronx</td>\n",
       "      <td>Belmont</td>\n",
       "      <td>40.857277</td>\n",
       "      <td>-73.888452</td>\n",
       "      <td>7.650000</td>\n",
       "    </tr>\n",
       "    <tr>\n",
       "      <th>3</th>\n",
       "      <td>Bronx</td>\n",
       "      <td>Co-op City</td>\n",
       "      <td>40.874294</td>\n",
       "      <td>-73.829939</td>\n",
       "      <td>7.050000</td>\n",
       "    </tr>\n",
       "    <tr>\n",
       "      <th>4</th>\n",
       "      <td>Bronx</td>\n",
       "      <td>Country Club</td>\n",
       "      <td>40.844246</td>\n",
       "      <td>-73.824099</td>\n",
       "      <td>3.900000</td>\n",
       "    </tr>\n",
       "    <tr>\n",
       "      <th>5</th>\n",
       "      <td>Bronx</td>\n",
       "      <td>Fieldston</td>\n",
       "      <td>40.895437</td>\n",
       "      <td>-73.905643</td>\n",
       "      <td>4.400000</td>\n",
       "    </tr>\n",
       "    <tr>\n",
       "      <th>6</th>\n",
       "      <td>Bronx</td>\n",
       "      <td>Fordham</td>\n",
       "      <td>40.860997</td>\n",
       "      <td>-73.896427</td>\n",
       "      <td>6.700000</td>\n",
       "    </tr>\n",
       "    <tr>\n",
       "      <th>7</th>\n",
       "      <td>Bronx</td>\n",
       "      <td>High  Bridge</td>\n",
       "      <td>40.836623</td>\n",
       "      <td>-73.926102</td>\n",
       "      <td>8.000000</td>\n",
       "    </tr>\n",
       "    <tr>\n",
       "      <th>8</th>\n",
       "      <td>Bronx</td>\n",
       "      <td>Kingsbridge</td>\n",
       "      <td>40.881687</td>\n",
       "      <td>-73.902818</td>\n",
       "      <td>7.733333</td>\n",
       "    </tr>\n",
       "    <tr>\n",
       "      <th>9</th>\n",
       "      <td>Bronx</td>\n",
       "      <td>Longwood</td>\n",
       "      <td>40.815099</td>\n",
       "      <td>-73.895788</td>\n",
       "      <td>6.950000</td>\n",
       "    </tr>\n",
       "    <tr>\n",
       "      <th>10</th>\n",
       "      <td>Manhattan</td>\n",
       "      <td>Marble Hill</td>\n",
       "      <td>40.876551</td>\n",
       "      <td>-73.910660</td>\n",
       "      <td>6.100000</td>\n",
       "    </tr>\n",
       "    <tr>\n",
       "      <th>11</th>\n",
       "      <td>Bronx</td>\n",
       "      <td>Melrose</td>\n",
       "      <td>40.819754</td>\n",
       "      <td>-73.909422</td>\n",
       "      <td>7.716667</td>\n",
       "    </tr>\n",
       "    <tr>\n",
       "      <th>12</th>\n",
       "      <td>Bronx</td>\n",
       "      <td>Morris Park</td>\n",
       "      <td>40.847549</td>\n",
       "      <td>-73.850402</td>\n",
       "      <td>8.500000</td>\n",
       "    </tr>\n",
       "    <tr>\n",
       "      <th>13</th>\n",
       "      <td>Bronx</td>\n",
       "      <td>Morrisania</td>\n",
       "      <td>40.823592</td>\n",
       "      <td>-73.901506</td>\n",
       "      <td>7.750000</td>\n",
       "    </tr>\n",
       "    <tr>\n",
       "      <th>14</th>\n",
       "      <td>Bronx</td>\n",
       "      <td>Mott Haven</td>\n",
       "      <td>40.806239</td>\n",
       "      <td>-73.916100</td>\n",
       "      <td>8.400000</td>\n",
       "    </tr>\n",
       "    <tr>\n",
       "      <th>15</th>\n",
       "      <td>Bronx</td>\n",
       "      <td>Norwood</td>\n",
       "      <td>40.877224</td>\n",
       "      <td>-73.879391</td>\n",
       "      <td>4.933333</td>\n",
       "    </tr>\n",
       "    <tr>\n",
       "      <th>16</th>\n",
       "      <td>Bronx</td>\n",
       "      <td>Parkchester</td>\n",
       "      <td>40.837938</td>\n",
       "      <td>-73.856003</td>\n",
       "      <td>8.400000</td>\n",
       "    </tr>\n",
       "    <tr>\n",
       "      <th>17</th>\n",
       "      <td>Bronx</td>\n",
       "      <td>Riverdale</td>\n",
       "      <td>40.890834</td>\n",
       "      <td>-73.912585</td>\n",
       "      <td>7.750000</td>\n",
       "    </tr>\n",
       "    <tr>\n",
       "      <th>18</th>\n",
       "      <td>Bronx</td>\n",
       "      <td>Westchester Square</td>\n",
       "      <td>40.840619</td>\n",
       "      <td>-73.842194</td>\n",
       "      <td>8.500000</td>\n",
       "    </tr>\n",
       "  </tbody>\n",
       "</table>\n",
       "</div>"
      ],
      "text/plain": [
       "      Borough        Neighborhood   Latitude  Longitude  Average Rating\n",
       "0       Bronx          Baychester  40.866858 -73.835798        7.050000\n",
       "1       Bronx        Bedford Park  40.870185 -73.885512        4.800000\n",
       "2       Bronx             Belmont  40.857277 -73.888452        7.650000\n",
       "3       Bronx          Co-op City  40.874294 -73.829939        7.050000\n",
       "4       Bronx        Country Club  40.844246 -73.824099        3.900000\n",
       "5       Bronx           Fieldston  40.895437 -73.905643        4.400000\n",
       "6       Bronx             Fordham  40.860997 -73.896427        6.700000\n",
       "7       Bronx        High  Bridge  40.836623 -73.926102        8.000000\n",
       "8       Bronx         Kingsbridge  40.881687 -73.902818        7.733333\n",
       "9       Bronx            Longwood  40.815099 -73.895788        6.950000\n",
       "10  Manhattan         Marble Hill  40.876551 -73.910660        6.100000\n",
       "11      Bronx             Melrose  40.819754 -73.909422        7.716667\n",
       "12      Bronx         Morris Park  40.847549 -73.850402        8.500000\n",
       "13      Bronx          Morrisania  40.823592 -73.901506        7.750000\n",
       "14      Bronx          Mott Haven  40.806239 -73.916100        8.400000\n",
       "15      Bronx             Norwood  40.877224 -73.879391        4.933333\n",
       "16      Bronx         Parkchester  40.837938 -73.856003        8.400000\n",
       "17      Bronx           Riverdale  40.890834 -73.912585        7.750000\n",
       "18      Bronx  Westchester Square  40.840619 -73.842194        8.500000"
      ]
     },
     "execution_count": 95,
     "metadata": {},
     "output_type": "execute_result"
    }
   ],
   "source": [
    "ny_neighborhood_stats"
   ]
  },
  {
   "cell_type": "markdown",
   "metadata": {},
   "source": [
    "Now we will show this data on a map"
   ]
  },
  {
   "cell_type": "code",
   "execution_count": 34,
   "metadata": {},
   "outputs": [],
   "source": [
    "# create map and display it\n",
    "\n",
    "ny_map = folium.Map(location=geo_location('New York'), zoom_start=12)"
   ]
  },
  {
   "cell_type": "code",
   "execution_count": 33,
   "metadata": {
    "scrolled": false
   },
   "outputs": [],
   "source": [
    "ny_map = folium.Map(location=geo_location('New York'), zoom_start=12)"
   ]
  },
  {
   "cell_type": "code",
   "execution_count": 110,
   "metadata": {},
   "outputs": [],
   "source": [
    "# instantiate a feature group for the incidents in the dataframe\n",
    "incidents = folium.map.FeatureGroup()\n",
    "\n",
    "# loop through the 100 crimes and add each to the incidents feature group\n",
    "for lat, lng, in ny_neighborhood_stats[['Latitude','Longitude']].values:\n",
    "    incidents.add_child(\n",
    "        folium.CircleMarker(\n",
    "            [lat, lng],\n",
    "            radius=10, # define how big you want the circle markers to be\n",
    "            color='yellow',\n",
    "            fill=True,\n",
    "            fill_color='blue',\n",
    "            fill_opacity=0.6\n",
    "        )\n",
    "    )\n"
   ]
  },
  {
   "cell_type": "markdown",
   "metadata": {},
   "source": [
    "Lets add a new field to dataframe for labeling purpose"
   ]
  },
  {
   "cell_type": "code",
   "execution_count": 111,
   "metadata": {},
   "outputs": [],
   "source": [
    "ny_neighborhood_stats['Label']=ny_neighborhood_stats['Neighborhood']+', '+ny_neighborhood_stats['Borough']+'('+ny_neighborhood_stats['Average Rating'].map(str)+')'"
   ]
  },
  {
   "cell_type": "code",
   "execution_count": 112,
   "metadata": {
    "scrolled": true
   },
   "outputs": [
    {
     "data": {
      "text/html": [
       "<div style=\"width:100%;\"><div style=\"position:relative;width:100%;height:0;padding-bottom:60%;\"><iframe src=\"data:text/html;charset=utf-8;base64,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\" style=\"position:absolute;width:100%;height:100%;left:0;top:0;border:none !important;\" allowfullscreen webkitallowfullscreen mozallowfullscreen></iframe></div></div>"
      ],
      "text/plain": [
       "<folium.folium.Map at 0x7f4210359b38>"
      ]
     },
     "execution_count": 112,
     "metadata": {},
     "output_type": "execute_result"
    }
   ],
   "source": [
    "# add pop-up text to each marker on the map\n",
    "for lat, lng, label in ny_neighborhood_stats[['Latitude','Longitude','Label']].values:\n",
    "    folium.Marker([lat, lng], popup=label).add_to(ny_map)        \n",
    "# add incidents to map\n",
    "ny_map.add_child(incidents)"
   ]
  },
  {
   "cell_type": "markdown",
   "metadata": {},
   "source": [
    "Now that we have visualized the Neighborhoods.\n",
    "<br>Lets Visualize Boroughs based on average Rating"
   ]
  },
  {
   "cell_type": "code",
   "execution_count": null,
   "metadata": {},
   "outputs": [],
   "source": [
    "ny_map = folium.Map(location=geo_location('New York'), zoom_start=12)\n",
    "ny_geo = 'Borough Boundaries.geojson'\n",
    "\n",
    "ny_map.choropleth(\n",
    "    geo_data=ny_geo,\n",
    "    data=ny_borough_stats,\n",
    "    columns=['Borough', 'Average Rating'],\n",
    "    key_on='feature.properties.boro_name',\n",
    "    fill_color='YlOrRd', \n",
    "    fill_opacity=0.7, \n",
    "    line_opacity=0.2,\n",
    "    legend_name='Average Rating'\n",
    ")\n",
    "\n",
    "# display map\n",
    "# as this is huge map data , we will save it to a file\n"
   ]
  },
  {
   "cell_type": "markdown",
   "metadata": {},
   "source": [
    "### Results \n",
    "- Westchester Square(Bronx), Morris Park(Bronx), Marble Hill(Manhattan) are some of the best neighborhoods for Mexican cuisine. \n",
    "- Manhattan have potential Mexican Resturant Market\n",
    "- Staten Island\tranks last in average rating of Mexican Resturants.\n",
    "- Bronx is the best place to stay if you prefer Mexican Cuisine.\n",
    "- Ditmas Park, Elmhurst, Jackson Heights neighbourhoods has 8 Mexican restaurants\n",
    "- Taqueria Tlaxcali in Bronx is highly liked & rated restaurant\n",
    "- Taqueria Tlaxcali in Bronx is also highly tipped restaurant"
   ]
  },
  {
   "cell_type": "markdown",
   "metadata": {},
   "source": [
    "### Discussions\n",
    "- It is recommended that Manhattan would be the best choice to open an mexican restaurant preferably in a truck instead of spending high rentals in Manhattan.\n",
    "- The ranking is purely on basis of rating of resturants\n",
    "- The accuracy of data depends purely depends on the data provided by FourSquare\n",
    "- Scope of the study is very limited due to various demographics factor\n"
   ]
  }
 ],
 "metadata": {
  "kernelspec": {
   "display_name": "Python 3.6",
   "language": "python",
   "name": "python3"
  },
  "language_info": {
   "codemirror_mode": {
    "name": "ipython",
    "version": 3
   },
   "file_extension": ".py",
   "mimetype": "text/x-python",
   "name": "python",
   "nbconvert_exporter": "python",
   "pygments_lexer": "ipython3",
   "version": "3.6.8"
  }
 },
 "nbformat": 4,
 "nbformat_minor": 2
}
